{
 "cells": [
  {
   "cell_type": "markdown",
   "metadata": {},
   "source": [
    "## Imports"
   ]
  },
  {
   "cell_type": "code",
   "execution_count": 26,
   "metadata": {},
   "outputs": [],
   "source": [
    "import os\n",
    "import torch\n",
    "import torch.nn as nn\n",
    "from sklearn.metrics import accuracy_score, precision_score, recall_score, f1_score, classification_report\n",
    "import matplotlib.pyplot as plt\n",
    "from torch.utils.data import DataLoader, TensorDataset\n",
    "from CRNN.CRNN import CRNN  \n",
    "import random\n",
    "import numpy as np\n",
    "import matplotlib.pyplot as plt\n",
    "from d2l import torch as d2l\n",
    "import pandas as pd\n",
    "from collections import Counter"
   ]
  },
  {
   "cell_type": "code",
   "execution_count": 27,
   "metadata": {},
   "outputs": [
    {
     "name": "stdout",
     "output_type": "stream",
     "text": [
      "Using device: cuda\n"
     ]
    }
   ],
   "source": [
    "device = torch.device(\"cuda\" if torch.cuda.is_available() else \"cpu\")\n",
    "print(f\"Using device: {device}\")"
   ]
  },
  {
   "cell_type": "markdown",
   "metadata": {},
   "source": [
    "## Seeding for Reproducibility"
   ]
  },
  {
   "cell_type": "code",
   "execution_count": 28,
   "metadata": {},
   "outputs": [],
   "source": [
    "seed = 42\n",
    "\n",
    "random.seed(seed)\n",
    "np.random.seed(seed)\n",
    "torch.manual_seed(seed)\n",
    "if torch.cuda.is_available():\n",
    "    torch.cuda.manual_seed_all(seed)\n",
    "    torch.backends.cudnn.deterministic = True\n",
    "    torch.backends.cudnn.benchmark = False\n"
   ]
  },
  {
   "cell_type": "markdown",
   "metadata": {},
   "source": [
    "## Data Loading"
   ]
  },
  {
   "cell_type": "code",
   "execution_count": 29,
   "metadata": {},
   "outputs": [],
   "source": [
    "data_dir = \"aclImdb\"\n",
    "\n",
    "def read_imdb(data_dir, is_train):\n",
    "    \"\"\"Read the IMDb dataset text sequences and labels.\"\"\"\n",
    "    data, labels = [], []\n",
    "    folder = \"train\" if is_train else \"test\"\n",
    "    for label in [\"pos\", \"neg\"]:\n",
    "        label_dir = os.path.join(data_dir, folder, label)\n",
    "        for filename in os.listdir(label_dir):\n",
    "            with open(os.path.join(label_dir, filename), \"r\", encoding=\"utf-8\") as f:\n",
    "                data.append(f.read())\n",
    "            labels.append(1 if label == \"pos\" else 0)\n",
    "    return data, labels\n",
    "\n",
    "def load_data_imdb(batch_size, num_steps=500):\n",
    "    \"\"\"Return data iterators and the vocabulary of the IMDb review dataset.\"\"\"\n",
    "    from d2l import torch as d2l\n",
    "    train_data, train_labels = read_imdb(data_dir, is_train=True)\n",
    "    test_data, test_labels = read_imdb(data_dir, is_train=False)\n",
    "\n",
    "    train_tokens = d2l.tokenize(train_data, token=\"word\")\n",
    "    test_tokens = d2l.tokenize(test_data, token=\"word\")\n",
    "    vocab = d2l.Vocab(train_tokens, min_freq=5, reserved_tokens=[\"<pad>\"])\n",
    "\n",
    "    train_features = torch.tensor(\n",
    "        [d2l.truncate_pad(vocab[line], num_steps, vocab[\"<pad>\"]) for line in train_tokens]\n",
    "    )\n",
    "    test_features = torch.tensor(\n",
    "        [d2l.truncate_pad(vocab[line], num_steps, vocab[\"<pad>\"]) for line in test_tokens]\n",
    "    )\n",
    "    train_labels = torch.tensor(train_labels)\n",
    "    test_labels = torch.tensor(test_labels)\n",
    "\n",
    "    train_dataset = TensorDataset(train_features, train_labels)\n",
    "    test_dataset = TensorDataset(test_features, test_labels)\n",
    "\n",
    "    train_iter = DataLoader(train_dataset, batch_size=batch_size, shuffle=True)\n",
    "    test_iter = DataLoader(test_dataset, batch_size=batch_size)\n",
    "\n",
    "    return train_iter, test_iter, vocab\n",
    "\n",
    "# Load dataset\n",
    "batch_size = 64\n",
    "num_steps = 500\n",
    "train_iter, test_iter, vocab = load_data_imdb(batch_size, num_steps)"
   ]
  },
  {
   "cell_type": "code",
   "execution_count": 30,
   "metadata": {},
   "outputs": [
    {
     "name": "stdout",
     "output_type": "stream",
     "text": [
      "Vocabulary size: 49347\n"
     ]
    }
   ],
   "source": [
    "print(f\"Vocabulary size: {len(vocab)}\")"
   ]
  },
  {
   "cell_type": "markdown",
   "metadata": {},
   "source": [
    "## Model Loading"
   ]
  },
  {
   "cell_type": "code",
   "execution_count": 31,
   "metadata": {},
   "outputs": [
    {
     "name": "stderr",
     "output_type": "stream",
     "text": [
      "C:\\Users\\jonec\\AppData\\Local\\Temp\\ipykernel_10748\\4192591679.py:7: FutureWarning: You are using `torch.load` with `weights_only=False` (the current default value), which uses the default pickle module implicitly. It is possible to construct malicious pickle data which will execute arbitrary code during unpickling (See https://github.com/pytorch/pytorch/blob/main/SECURITY.md#untrusted-models for more details). In a future release, the default value for `weights_only` will be flipped to `True`. This limits the functions that could be executed during unpickling. Arbitrary objects will no longer be allowed to be loaded via this mode unless they are explicitly allowlisted by the user via `torch.serialization.add_safe_globals`. We recommend you start setting `weights_only=True` for any use case where you don't have full control of the loaded file. Please open an issue on GitHub for any issues related to this experimental feature.\n",
      "  crnn.load_state_dict(torch.load(crnn_model_path, map_location=device))\n"
     ]
    }
   ],
   "source": [
    "# Load CRNN model\n",
    "crnn_model_path = \"./CRNN/checkpoints/crnn_best_model.pt\"\n",
    "embed_dim = 100\n",
    "hidden_dim = 64\n",
    "output_dim = 2\n",
    "crnn = CRNN(len(vocab), embed_dim, hidden_dim, output_dim)\n",
    "crnn.load_state_dict(torch.load(crnn_model_path, map_location=device))\n",
    "crnn = crnn.to(device)\n",
    "\n"
   ]
  },
  {
   "cell_type": "code",
   "execution_count": 32,
   "metadata": {},
   "outputs": [
    {
     "name": "stderr",
     "output_type": "stream",
     "text": [
      "C:\\Users\\jonec\\AppData\\Local\\Temp\\ipykernel_10748\\555665781.py:18: FutureWarning: You are using `torch.load` with `weights_only=False` (the current default value), which uses the default pickle module implicitly. It is possible to construct malicious pickle data which will execute arbitrary code during unpickling (See https://github.com/pytorch/pytorch/blob/main/SECURITY.md#untrusted-models for more details). In a future release, the default value for `weights_only` will be flipped to `True`. This limits the functions that could be executed during unpickling. Arbitrary objects will no longer be allowed to be loaded via this mode unless they are explicitly allowlisted by the user via `torch.serialization.add_safe_globals`. We recommend you start setting `weights_only=True` for any use case where you don't have full control of the loaded file. Please open an issue on GitHub for any issues related to this experimental feature.\n",
      "  rnn.load_state_dict(torch.load(rnn_model_path, map_location=device))\n"
     ]
    }
   ],
   "source": [
    "# Load RNN model\n",
    "rnn_model_path = \"./best_rnn_model.pth\"\n",
    "class BiRNN(nn.Module): \n",
    "    def __init__(self, vocab_size, embed_size, num_hiddens, num_layers, **kwargs):\n",
    "        super(BiRNN, self).__init__(**kwargs)\n",
    "        self.embedding = nn.Embedding(vocab_size, embed_size)\n",
    "        self.encoder = nn.LSTM(embed_size, num_hiddens, num_layers=num_layers, bidirectional=True)\n",
    "        self.decoder = nn.Linear(4 * num_hiddens, 2)\n",
    "\n",
    "    def forward(self, inputs):\n",
    "        embeddings = self.embedding(inputs.T)\n",
    "        outputs, _ = self.encoder(embeddings)\n",
    "        outs = torch.cat((outputs[0], outputs[-1]), dim=1)\n",
    "        return self.decoder(outs)\n",
    "\n",
    "num_hiddens, num_layers = 100, 2\n",
    "rnn = BiRNN(len(vocab), embed_dim, num_hiddens, num_layers)\n",
    "rnn.load_state_dict(torch.load(rnn_model_path, map_location=device))\n",
    "rnn = rnn.to(device)"
   ]
  },
  {
   "cell_type": "code",
   "execution_count": null,
   "metadata": {},
   "outputs": [
    {
     "name": "stderr",
     "output_type": "stream",
     "text": [
      "C:\\Users\\jonec\\AppData\\Local\\Temp\\ipykernel_10748\\2311503228.py:29: FutureWarning: You are using `torch.load` with `weights_only=False` (the current default value), which uses the default pickle module implicitly. It is possible to construct malicious pickle data which will execute arbitrary code during unpickling (See https://github.com/pytorch/pytorch/blob/main/SECURITY.md#untrusted-models for more details). In a future release, the default value for `weights_only` will be flipped to `True`. This limits the functions that could be executed during unpickling. Arbitrary objects will no longer be allowed to be loaded via this mode unless they are explicitly allowlisted by the user via `torch.serialization.add_safe_globals`. We recommend you start setting `weights_only=True` for any use case where you don't have full control of the loaded file. Please open an issue on GitHub for any issues related to this experimental feature.\n",
      "  cnn.load_state_dict(torch.load(cnn_model_path, map_location=device))\n"
     ]
    }
   ],
   "source": [
    "# Load CNN model\n",
    "cnn_model_path = \"./weights/best_cnn_model.pth\"\n",
    "class TextCNN(nn.Module):  \n",
    "    def __init__(self, vocab_size, embed_size, kernel_sizes, num_channels, **kwargs):\n",
    "        super(TextCNN, self).__init__(**kwargs)\n",
    "        self.embedding = nn.Embedding(vocab_size, embed_size)\n",
    "        self.constant_embedding = nn.Embedding(vocab_size, embed_size)\n",
    "        self.dropout = nn.Dropout(0.5)\n",
    "        self.decoder = nn.Linear(sum(num_channels), 2)\n",
    "        self.pool = nn.AdaptiveAvgPool1d(1)\n",
    "        self.relu = nn.ReLU()\n",
    "        self.convs = nn.ModuleList()\n",
    "        for c, k in zip(num_channels, kernel_sizes):\n",
    "            self.convs.append(nn.Conv1d(2 * embed_size, c, k))\n",
    "\n",
    "    def forward(self, inputs):\n",
    "        embeddings = torch.cat(\n",
    "            (self.embedding(inputs), self.constant_embedding(inputs)), dim=2\n",
    "        ).permute(0, 2, 1)\n",
    "        encoding = torch.cat(\n",
    "            [self.relu(self.pool(conv(embeddings)).squeeze(-1)) for conv in self.convs],\n",
    "            dim=1,\n",
    "        )\n",
    "        outputs = self.decoder(self.dropout(encoding))\n",
    "        return outputs\n",
    "\n",
    "kernel_sizes, num_channels = [3, 4, 5], [100, 100, 100]\n",
    "cnn = TextCNN(len(vocab), embed_dim, kernel_sizes, num_channels)\n",
    "cnn.load_state_dict(torch.load(cnn_model_path, map_location=device))\n",
    "cnn = cnn.to(device)"
   ]
  },
  {
   "cell_type": "markdown",
   "metadata": {},
   "source": [
    "## Eval"
   ]
  },
  {
   "cell_type": "code",
   "execution_count": 34,
   "metadata": {},
   "outputs": [],
   "source": [
    "def evaluate_model_imdb(model, data_iter, device, criterion):\n",
    "    \"\"\"Evaluate model performance on the test set, including loss.\"\"\"\n",
    "    model.eval()\n",
    "    y_true, y_pred = [], []\n",
    "    total_loss = 0.0\n",
    "    total_samples = 0\n",
    "\n",
    "    with torch.no_grad():\n",
    "        for X, y in data_iter:\n",
    "            X, y = X.to(device), y.to(device)\n",
    "            outputs = model(X)\n",
    "            loss = criterion(outputs, y)\n",
    "            \n",
    "            total_loss += loss.item() * y.size(0)\n",
    "            total_samples += y.size(0)\n",
    "            \n",
    "            y_pred.extend(torch.argmax(outputs, axis=1).cpu().numpy())\n",
    "            y_true.extend(y.cpu().numpy())\n",
    "\n",
    "    avg_loss = total_loss / total_samples\n",
    "    acc = accuracy_score(y_true, y_pred)\n",
    "    precision = precision_score(y_true, y_pred, average=\"binary\")\n",
    "    recall = recall_score(y_true, y_pred, average=\"binary\")\n",
    "    f1 = f1_score(y_true, y_pred, average=\"binary\")\n",
    "\n",
    "    return avg_loss, acc, precision, recall, f1\n",
    "\n",
    "def evaluate_test_set(model, test_file_path, vocab, device):\n",
    "    \"\"\"\n",
    "    Evaluate the model on the provided test set.\n",
    "    \n",
    "    Args:\n",
    "        model: Trained PyTorch model to evaluate.\n",
    "        test_file_path: Path to the test dataset CSV file (text, label).\n",
    "        vocab: Vocabulary object to tokenize the text data.\n",
    "        device: Device (CPU or GPU) to run the evaluation.\n",
    "    \n",
    "    Returns:\n",
    "        metrics: Dictionary containing accuracy, precision, recall, F1 score.\n",
    "    \"\"\"\n",
    "    test_data = pd.read_csv(test_file_path)\n",
    "    texts, labels = test_data['text'].tolist(), test_data['label'].tolist()\n",
    "\n",
    "    tokenized_texts = [vocab[token] for token in d2l.tokenize(texts, token='word')]\n",
    "    max_len = 500 \n",
    "    features = torch.tensor([d2l.truncate_pad(tokens, max_len, vocab['<pad>']) for tokens in tokenized_texts])\n",
    "    labels = torch.tensor(labels)\n",
    "\n",
    "    test_dataset = torch.utils.data.TensorDataset(features, labels)\n",
    "    test_loader = torch.utils.data.DataLoader(test_dataset, batch_size=64)\n",
    "\n",
    "    model.eval()\n",
    "    y_true, y_pred = [], []\n",
    "\n",
    "    with torch.no_grad():\n",
    "        for X, y in test_loader:\n",
    "            X, y = X.to(device), y.to(device)\n",
    "            outputs = model(X)\n",
    "            predictions = torch.argmax(outputs, axis=1).cpu().numpy()\n",
    "            y_pred.extend(predictions)\n",
    "            y_true.extend(y.cpu().numpy())\n",
    "\n",
    "    accuracy = accuracy_score(y_true, y_pred)\n",
    "    precision = precision_score(y_true, y_pred, average=\"binary\")\n",
    "    recall = recall_score(y_true, y_pred, average=\"binary\")\n",
    "    f1 = f1_score(y_true, y_pred, average=\"binary\")\n",
    "\n",
    "    print(\"\\nClassification Report:\")\n",
    "    print(classification_report(y_true, y_pred, target_names=[\"Negative\", \"Positive\"]))\n",
    "\n",
    "    return {\"accuracy\": accuracy, \"precision\": precision, \"recall\": recall, \"f1_score\": f1}"
   ]
  },
  {
   "cell_type": "code",
   "execution_count": 35,
   "metadata": {},
   "outputs": [],
   "source": [
    "criterion = nn.CrossEntropyLoss()"
   ]
  },
  {
   "cell_type": "markdown",
   "metadata": {},
   "source": [
    "## Eval on aclimdb test set"
   ]
  },
  {
   "cell_type": "code",
   "execution_count": 36,
   "metadata": {},
   "outputs": [
    {
     "name": "stdout",
     "output_type": "stream",
     "text": [
      "CNN Model - Test Loss: 0.4298, Accuracy: 0.8426, Precision: 0.7899, Recall: 0.9334, F1 Score: 0.8557\n"
     ]
    }
   ],
   "source": [
    "cnn_test_loss, cnn_acc, cnn_precision, cnn_recall, cnn_f1 = evaluate_model_imdb(cnn, test_iter, device, criterion)\n",
    "print(f\"CNN Model - Test Loss: {cnn_test_loss:.4f}, Accuracy: {cnn_acc:.4f}, \"\n",
    "      f\"Precision: {cnn_precision:.4f}, Recall: {cnn_recall:.4f}, F1 Score: {cnn_f1:.4f}\")"
   ]
  },
  {
   "cell_type": "code",
   "execution_count": 37,
   "metadata": {},
   "outputs": [
    {
     "name": "stdout",
     "output_type": "stream",
     "text": [
      "RNN Model - Test Loss: 0.3208, Accuracy: 0.8650, Precision: 0.8844, Recall: 0.8398, F1 Score: 0.8615\n"
     ]
    }
   ],
   "source": [
    "rnn_test_loss, rnn_acc, rnn_precision, rnn_recall, rnn_f1 = evaluate_model_imdb(rnn, test_iter, device, criterion)\n",
    "print(f\"RNN Model - Test Loss: {rnn_test_loss:.4f}, Accuracy: {rnn_acc:.4f}, \"\n",
    "      f\"Precision: {rnn_precision:.4f}, Recall: {rnn_recall:.4f}, F1 Score: {rnn_f1:.4f}\")"
   ]
  },
  {
   "cell_type": "code",
   "execution_count": 38,
   "metadata": {},
   "outputs": [
    {
     "name": "stdout",
     "output_type": "stream",
     "text": [
      "CRNN Model - Test Loss: 0.3633, Accuracy: 0.8512, Precision: 0.8361, Recall: 0.8738, F1 Score: 0.8545\n"
     ]
    }
   ],
   "source": [
    "crnn_test_loss, crnn_acc, crnn_precision, crnn_recall, crnn_f1 = evaluate_model_imdb(crnn, test_iter, device, criterion)\n",
    "print(f\"CRNN Model - Test Loss: {crnn_test_loss:.4f}, Accuracy: {crnn_acc:.4f}, \"\n",
    "      f\"Precision: {crnn_precision:.4f}, Recall: {crnn_recall:.4f}, F1 Score: {crnn_f1:.4f}\")"
   ]
  },
  {
   "cell_type": "markdown",
   "metadata": {},
   "source": [
    "## Eval on actual test set"
   ]
  },
  {
   "cell_type": "code",
   "execution_count": 39,
   "metadata": {},
   "outputs": [],
   "source": [
    "test_file_path = \"./test_data_movie.csv\""
   ]
  },
  {
   "cell_type": "code",
   "execution_count": 40,
   "metadata": {},
   "outputs": [
    {
     "name": "stdout",
     "output_type": "stream",
     "text": [
      "\n",
      "Classification Report:\n",
      "              precision    recall  f1-score   support\n",
      "\n",
      "    Negative       0.95      0.80      0.87     20019\n",
      "    Positive       0.83      0.96      0.89     19981\n",
      "\n",
      "    accuracy                           0.88     40000\n",
      "   macro avg       0.89      0.88      0.88     40000\n",
      "weighted avg       0.89      0.88      0.88     40000\n",
      "\n",
      "CNN Model Evaluation:\n",
      "Accuracy: 0.8822\n",
      "Precision: 0.8308\n",
      "Recall: 0.9596\n",
      "F1 Score: 0.8905\n"
     ]
    }
   ],
   "source": [
    "metrics = evaluate_test_set(cnn, test_file_path, vocab, device)\n",
    "\n",
    "print(\"CNN Model Evaluation:\")\n",
    "print(f\"Accuracy: {metrics['accuracy']:.4f}\")\n",
    "print(f\"Precision: {metrics['precision']:.4f}\")\n",
    "print(f\"Recall: {metrics['recall']:.4f}\")\n",
    "print(f\"F1 Score: {metrics['f1_score']:.4f}\")"
   ]
  },
  {
   "cell_type": "code",
   "execution_count": 41,
   "metadata": {},
   "outputs": [
    {
     "name": "stdout",
     "output_type": "stream",
     "text": [
      "\n",
      "Classification Report:\n",
      "              precision    recall  f1-score   support\n",
      "\n",
      "    Negative       0.87      0.92      0.89     20019\n",
      "    Positive       0.91      0.87      0.89     19981\n",
      "\n",
      "    accuracy                           0.89     40000\n",
      "   macro avg       0.89      0.89      0.89     40000\n",
      "weighted avg       0.89      0.89      0.89     40000\n",
      "\n",
      "RNN Model Evaluation:\n",
      "Accuracy: 0.8921\n",
      "Precision: 0.9124\n",
      "Recall: 0.8672\n",
      "F1 Score: 0.8892\n"
     ]
    }
   ],
   "source": [
    "metrics = evaluate_test_set(rnn, test_file_path, vocab, device)\n",
    "\n",
    "print(\"RNN Model Evaluation:\")\n",
    "print(f\"Accuracy: {metrics['accuracy']:.4f}\")\n",
    "print(f\"Precision: {metrics['precision']:.4f}\")\n",
    "print(f\"Recall: {metrics['recall']:.4f}\")\n",
    "print(f\"F1 Score: {metrics['f1_score']:.4f}\")"
   ]
  },
  {
   "cell_type": "code",
   "execution_count": 42,
   "metadata": {},
   "outputs": [
    {
     "name": "stdout",
     "output_type": "stream",
     "text": [
      "\n",
      "Classification Report:\n",
      "              precision    recall  f1-score   support\n",
      "\n",
      "    Negative       0.91      0.87      0.89     20019\n",
      "    Positive       0.88      0.91      0.89     19981\n",
      "\n",
      "    accuracy                           0.89     40000\n",
      "   macro avg       0.89      0.89      0.89     40000\n",
      "weighted avg       0.89      0.89      0.89     40000\n",
      "\n",
      "CRNN Model Evaluation:\n",
      "Accuracy: 0.8910\n",
      "Precision: 0.8769\n",
      "Recall: 0.9096\n",
      "F1 Score: 0.8929\n"
     ]
    }
   ],
   "source": [
    "metrics = evaluate_test_set(crnn, test_file_path, vocab, device)\n",
    "\n",
    "print(\"CRNN Model Evaluation:\")\n",
    "print(f\"Accuracy: {metrics['accuracy']:.4f}\")\n",
    "print(f\"Precision: {metrics['precision']:.4f}\")\n",
    "print(f\"Recall: {metrics['recall']:.4f}\")\n",
    "print(f\"F1 Score: {metrics['f1_score']:.4f}\")"
   ]
  },
  {
   "cell_type": "markdown",
   "metadata": {},
   "source": [
    "## Combined Model"
   ]
  },
  {
   "cell_type": "code",
   "execution_count": 43,
   "metadata": {},
   "outputs": [],
   "source": [
    "import torch.nn.functional as F\n",
    "\n",
    "class CombinedModel(nn.Module):\n",
    "    def __init__(self, cnn, rnn, crnn, combined_dim, hidden_dim, output_dim, dropout_rate=0.5):\n",
    "        super(CombinedModel, self).__init__()\n",
    "        self.cnn = cnn\n",
    "        self.rnn = rnn\n",
    "        self.crnn = crnn\n",
    "\n",
    "        # fully connected layers\n",
    "        self.fc1 = nn.Linear(combined_dim, hidden_dim)\n",
    "        self.relu = nn.ReLU()\n",
    "        self.dropout = nn.Dropout(dropout_rate)\n",
    "        self.fc2 = nn.Linear(hidden_dim, output_dim)\n",
    "\n",
    "    def forward(self, x):\n",
    "        cnn_embedding = self.extract_cnn_embedding(self.cnn, x)\n",
    "        rnn_embedding = self.extract_rnn_embedding(self.rnn, x)\n",
    "        crnn_embedding = self.extract_crnn_embedding(self.crnn, x)\n",
    "\n",
    "        combined_embedding = torch.cat((cnn_embedding, rnn_embedding, crnn_embedding), dim=1)\n",
    "\n",
    "        x = self.fc1(combined_embedding)\n",
    "        x = self.relu(x)\n",
    "        x = self.dropout(x)\n",
    "        x = self.fc2(x)\n",
    "        return x\n",
    "\n",
    "    @staticmethod\n",
    "    def extract_cnn_embedding(cnn, x):\n",
    "        \"\"\"Extract embedding from CNN before its classifier.\"\"\"\n",
    "        embeddings = torch.cat(\n",
    "            (cnn.embedding(x), cnn.constant_embedding(x)), dim=2\n",
    "        )  \n",
    "        embeddings = embeddings.permute(0, 2, 1)\n",
    "        conv_outputs = [cnn.relu(conv(embeddings)) for conv in cnn.convs]\n",
    "        pooled_outputs = [cnn.pool(conv_out).squeeze(-1) for conv_out in conv_outputs]\n",
    "        cnn_embedding = torch.cat(pooled_outputs, dim=1)\n",
    "        return cnn_embedding  \n",
    "\n",
    "    @staticmethod\n",
    "    def extract_rnn_embedding(rnn, x):\n",
    "        \"\"\"Extract the last hidden state from the BiRNN.\"\"\"\n",
    "        embeddings = rnn.embedding(x.T)\n",
    "        outputs, _ = rnn.encoder(embeddings)\n",
    "        rnn_embedding = torch.cat((outputs[0], outputs[-1]), dim=1)\n",
    "        return rnn_embedding  \n",
    "\n",
    "    @staticmethod\n",
    "    def extract_crnn_embedding(crnn, x):\n",
    "        \"\"\"Extract the last hidden state from the GRU in CRNN.\"\"\"\n",
    "        x = crnn.embedding(x)\n",
    "        x = crnn.embedding_dropout(x)\n",
    "        x = x.permute(0, 2, 1)\n",
    "        x = F.relu(crnn.conv(x))\n",
    "        x = crnn.conv_dropout(x)\n",
    "        x = x.permute(0, 2, 1)\n",
    "        _, hidden_state = crnn.gru(x)\n",
    "        crnn_embedding = hidden_state[-1]  \n",
    "        return crnn_embedding  \n"
   ]
  },
  {
   "cell_type": "code",
   "execution_count": 44,
   "metadata": {},
   "outputs": [],
   "source": [
    "cnn_dim = 300\n",
    "rnn_dim = 400\n",
    "crnn_dim = 64  \n",
    "combined_dim = cnn_dim + rnn_dim + crnn_dim\n",
    "hidden_dim = 128\n",
    "output_dim = 2 \n",
    "dropout_rate = 0.5\n",
    "\n",
    "combined_model = CombinedModel(cnn, rnn, crnn, combined_dim, hidden_dim, output_dim, dropout_rate).to(device)\n"
   ]
  },
  {
   "cell_type": "code",
   "execution_count": 45,
   "metadata": {},
   "outputs": [],
   "source": [
    "def freeze_model(model):\n",
    "    for param in model.parameters():\n",
    "        param.requires_grad = False\n",
    "\n",
    "freeze_model(cnn)\n",
    "freeze_model(rnn)\n",
    "freeze_model(crnn)\n",
    "\n",
    "# classification layers remain trainable\n",
    "for param in cnn.decoder.parameters():\n",
    "    param.requires_grad = True\n",
    "for param in rnn.decoder.parameters():\n",
    "    param.requires_grad = True\n",
    "for param in crnn.fc.parameters():\n",
    "    param.requires_grad = True\n"
   ]
  },
  {
   "cell_type": "markdown",
   "metadata": {},
   "source": [
    "## Train & Eval"
   ]
  },
  {
   "cell_type": "code",
   "execution_count": 46,
   "metadata": {},
   "outputs": [],
   "source": [
    "# Hyperparameters\n",
    "num_epochs = 10\n",
    "learning_rate = 1e-5"
   ]
  },
  {
   "cell_type": "code",
   "execution_count": 47,
   "metadata": {},
   "outputs": [
    {
     "name": "stdout",
     "output_type": "stream",
     "text": [
      "Epoch 1/10\n",
      "Train Loss: 0.5691, Train Accuracy: 0.8795\n",
      "Test Loss: 0.4921, Test Accuracy: 0.8943\n",
      "Epoch 2/10\n",
      "Train Loss: 0.3860, Train Accuracy: 0.9489\n",
      "Test Loss: 0.3716, Test Accuracy: 0.8950\n",
      "Epoch 3/10\n",
      "Train Loss: 0.2749, Train Accuracy: 0.9534\n",
      "Test Loss: 0.3100, Test Accuracy: 0.8943\n",
      "Epoch 4/10\n",
      "Train Loss: 0.2125, Train Accuracy: 0.9565\n",
      "Test Loss: 0.2803, Test Accuracy: 0.8942\n",
      "Epoch 5/10\n",
      "Train Loss: 0.1753, Train Accuracy: 0.9586\n",
      "Test Loss: 0.2663, Test Accuracy: 0.8946\n",
      "Epoch 6/10\n",
      "Train Loss: 0.1524, Train Accuracy: 0.9596\n",
      "Test Loss: 0.2609, Test Accuracy: 0.8944\n",
      "Epoch 7/10\n",
      "Train Loss: 0.1367, Train Accuracy: 0.9607\n",
      "Test Loss: 0.2597, Test Accuracy: 0.8951\n",
      "Epoch 8/10\n",
      "Train Loss: 0.1262, Train Accuracy: 0.9618\n",
      "Test Loss: 0.2612, Test Accuracy: 0.8953\n",
      "Epoch 9/10\n",
      "Train Loss: 0.1190, Train Accuracy: 0.9620\n",
      "Test Loss: 0.2635, Test Accuracy: 0.8952\n",
      "Epoch 10/10\n",
      "Train Loss: 0.1124, Train Accuracy: 0.9635\n",
      "Test Loss: 0.2655, Test Accuracy: 0.8953\n",
      "\n",
      "Classification Report:\n",
      "              precision    recall  f1-score   support\n",
      "\n",
      "    Negative       0.91      0.87      0.89     12500\n",
      "    Positive       0.88      0.92      0.90     12500\n",
      "\n",
      "    accuracy                           0.90     25000\n",
      "   macro avg       0.90      0.90      0.90     25000\n",
      "weighted avg       0.90      0.90      0.90     25000\n",
      "\n"
     ]
    }
   ],
   "source": [
    "criterion = nn.CrossEntropyLoss()\n",
    "optimizer = torch.optim.Adam(combined_model.parameters(), lr=learning_rate)\n",
    "\n",
    "train_losses, test_losses = [], []\n",
    "train_accuracies, test_accuracies = [], []\n",
    "best_test_loss = float('inf')\n",
    "best_model_path = \"best_combined_model.pth\"\n",
    "\n",
    "for epoch in range(num_epochs):\n",
    "    combined_model.train()\n",
    "    running_loss = 0.0\n",
    "    total_samples = 0\n",
    "    correct_samples = 0\n",
    "\n",
    "    for X, y in train_iter:\n",
    "        X, y = X.to(device), y.to(device)\n",
    "        optimizer.zero_grad()\n",
    "\n",
    "        outputs = combined_model(X)\n",
    "        loss = criterion(outputs, y)\n",
    "\n",
    "        loss.backward()\n",
    "        optimizer.step()\n",
    "\n",
    "        running_loss += loss.item() * y.size(0)\n",
    "        total_samples += y.size(0)\n",
    "        correct_samples += (torch.argmax(outputs, axis=1) == y).sum().item()\n",
    "\n",
    "    train_loss = running_loss / total_samples\n",
    "    train_accuracy = correct_samples / total_samples\n",
    "    train_losses.append(train_loss)\n",
    "    train_accuracies.append(train_accuracy)\n",
    "\n",
    "    combined_model.eval()\n",
    "    test_running_loss = 0.0\n",
    "    test_total_samples = 0\n",
    "    test_correct_samples = 0\n",
    "    y_true, y_pred = [], []\n",
    "\n",
    "    with torch.no_grad():\n",
    "        for X, y in test_iter:\n",
    "            X, y = X.to(device), y.to(device)\n",
    "            outputs = combined_model(X)\n",
    "            loss = criterion(outputs, y)\n",
    "\n",
    "            test_running_loss += loss.item() * y.size(0)\n",
    "            test_total_samples += y.size(0)\n",
    "            test_correct_samples += (torch.argmax(outputs, axis=1) == y).sum().item()\n",
    "\n",
    "            y_pred.extend(torch.argmax(outputs, axis=1).cpu().numpy())\n",
    "            y_true.extend(y.cpu().numpy())\n",
    "\n",
    "    test_loss = test_running_loss / test_total_samples\n",
    "    test_accuracy = test_correct_samples / test_total_samples\n",
    "    test_losses.append(test_loss)\n",
    "    test_accuracies.append(test_accuracy)\n",
    "\n",
    "    if test_loss < best_test_loss:\n",
    "        best_test_loss = test_loss\n",
    "        torch.save(combined_model.state_dict(), best_model_path)\n",
    "\n",
    "    print(f\"Epoch {epoch+1}/{num_epochs}\")\n",
    "    print(f\"Train Loss: {train_loss:.4f}, Train Accuracy: {train_accuracy:.4f}\")\n",
    "    print(f\"Test Loss: {test_loss:.4f}, Test Accuracy: {test_accuracy:.4f}\")\n",
    "\n",
    "# combined_model.load_state_dict(torch.load(best_model_path))\n",
    "# print(\"Best model loaded!\")\n",
    "# combined_model.eval()\n",
    "\n",
    "# classification report\n",
    "y_true, y_pred = [], []\n",
    "with torch.no_grad():\n",
    "    for X, y in test_iter:\n",
    "        X, y = X.to(device), y.to(device)\n",
    "        outputs = combined_model(X)\n",
    "        y_pred.extend(torch.argmax(outputs, axis=1).cpu().numpy())\n",
    "        y_true.extend(y.cpu().numpy())\n",
    "\n",
    "print(\"\\nClassification Report:\")\n",
    "print(classification_report(y_true, y_pred, target_names=[\"Negative\", \"Positive\"]))"
   ]
  },
  {
   "cell_type": "markdown",
   "metadata": {},
   "source": [
    "## Plots"
   ]
  },
  {
   "cell_type": "code",
   "execution_count": 48,
   "metadata": {},
   "outputs": [
    {
     "data": {
      "image/png": "[encoded data removed]",
      "text/plain": [
       "<Figure size 1400x600 with 2 Axes>"
      ]
     },
     "metadata": {},
     "output_type": "display_data"
    }
   ],
   "source": [
    "epochs = range(1, num_epochs + 1)\n",
    "\n",
    "plt.figure(figsize=(14, 6))\n",
    "\n",
    "plt.subplot(1, 2, 1)\n",
    "plt.plot(epochs, train_losses, 'b-o', label='Training Loss')\n",
    "plt.plot(epochs, test_losses, 'r-o', label='Test Loss')\n",
    "plt.title('Training and Test Loss')\n",
    "plt.xlabel('Epochs')\n",
    "plt.ylabel('Loss')\n",
    "plt.legend()\n",
    "\n",
    "plt.subplot(1, 2, 2)\n",
    "plt.plot(epochs, train_accuracies, 'b-o', label='Training Accuracy')\n",
    "plt.plot(epochs, test_accuracies, 'r-o', label='Test Accuracy')\n",
    "plt.title('Training and Test Accuracy')\n",
    "plt.xlabel('Epochs')\n",
    "plt.ylabel('Accuracy')\n",
    "plt.legend()\n",
    "\n",
    "plt.tight_layout()\n",
    "plt.show()"
   ]
  },
  {
   "cell_type": "code",
   "execution_count": 49,
   "metadata": {},
   "outputs": [
    {
     "name": "stdout",
     "output_type": "stream",
     "text": [
      "\n",
      "Classification Report:\n",
      "              precision    recall  f1-score   support\n",
      "\n",
      "    Negative       0.95      0.92      0.93     20019\n",
      "    Positive       0.92      0.95      0.93     19981\n",
      "\n",
      "    accuracy                           0.93     40000\n",
      "   macro avg       0.93      0.93      0.93     40000\n",
      "weighted avg       0.93      0.93      0.93     40000\n",
      "\n",
      "Combined Model Evaluation:\n",
      "Accuracy: 0.9322\n",
      "Precision: 0.9189\n",
      "Recall: 0.9480\n",
      "F1 Score: 0.9332\n"
     ]
    }
   ],
   "source": [
    "# combined_model.load_state_dict(torch.load(best_model_path))\n",
    "# print(\"Best model loaded!\")\n",
    "# combined_model.eval()\n",
    "\n",
    "metrics = evaluate_test_set(combined_model, test_file_path, vocab, device)\n",
    "\n",
    "print(\"Combined Model Evaluation:\")\n",
    "print(f\"Accuracy: {metrics['accuracy']:.4f}\")\n",
    "print(f\"Precision: {metrics['precision']:.4f}\")\n",
    "print(f\"Recall: {metrics['recall']:.4f}\")\n",
    "print(f\"F1 Score: {metrics['f1_score']:.4f}\")"
   ]
  },
  {
   "cell_type": "code",
   "execution_count": 50,
   "metadata": {},
   "outputs": [],
   "source": [
    "torch.save(combined_model.state_dict(), best_model_path)"
   ]
  }
 ],
 "metadata": {
  "kernelspec": {
   "display_name": "general_ai",
   "language": "python",
   "name": "python3"
  },
  "language_info": {
   "codemirror_mode": {
    "name": "ipython",
    "version": 3
   },
   "file_extension": ".py",
   "mimetype": "text/x-python",
   "name": "python",
   "nbconvert_exporter": "python",
   "pygments_lexer": "ipython3",
   "version": "3.9.19"
  }
 },
 "nbformat": 4,
 "nbformat_minor": 2
}

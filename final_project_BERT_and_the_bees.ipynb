{
 "cells": [
  {
   "cell_type": "markdown",
   "metadata": {},
   "source": [
    "# 50.040 Natural Language Processing (Fall 2024) Final Project (100 Points)\n",
    "\n",
    "**DUE DATE: 13 December 2024**\n",
    "\n",
    "Final project will be graded by Chen Huang"
   ]
  },
  {
   "cell_type": "markdown",
   "metadata": {
    "id": "FsCU5Q_6d8Ac"
   },
   "source": [
    "\n",
    "# Group Information (Fill before you start)\n",
    "\n",
    "**Group Name:** BERT and the bees\n",
    "\n",
    "**Name(STUDNET ID) (2-3 person):**\n",
    "1) Jone Chong (1006338)\n",
    "2) Ryner Tan (1005982)\n",
    "3) Heng Jia Ming (1005878)\n",
    "\n",
    "**Please also rename the final submitted pdf as ``finalproject_[GROUP_NAME].pdf``**\n",
    "\n",
    "**-1 points if info not filled or file name not adjusted before submission, -100 points if you copy other's answer. We encourage discussion, but please do not copy without thinking.**"
   ]
  },
  {
   "cell_type": "markdown",
   "metadata": {
    "id": "bDOUuC7-CdX-"
   },
   "source": [
    "## [!] Please read this if your computer does not have GPUs.\n",
    "### Free GPU Resources\n",
    "We suggest that you run neural language models on machines with GPU(s). Google provides the free online platform [Colaboratory](https://colab.research.google.com/notebooks/welcome.ipynb), a research tool for machine learning education and research. It’s a Jupyter notebook environment that requires no setup to use as common packages have been  pre-installed. Google users can have access to a Tesla T4 GPU (approximately 15G memory). Note that when you connect to a GPU-based VM runtime, you are given a maximum of 12 hours at a time on the VM.\n",
    "\n",
    "Colab is web-based, fast and convinient. You can simply upload this notebook and run it online. For the database needed in this task, you can download it and upload to colab OR you can save it in your google drive and link it with the colab.\n",
    "\n",
    "It is convenient to upload local Jupyter Notebook files and data to Colab, please refer to the [tutorial](https://colab.research.google.com/notebooks/io.ipynb).\n",
    "\n",
    "In addition, Microsoft also provides the online platform [Azure Notebooks](https://notebooks.azure.com/help/introduction) for research of data science and machine learning, there are free trials for new users with credits."
   ]
  },
  {
   "cell_type": "markdown",
   "metadata": {
    "id": "V0iF5uWcCdXV"
   },
   "source": [
    "# Instructions\n",
    "Please read the following instructions carefully before you begin this project:\n",
    "\n",
    "- This is a group project. You are allowed to form groups in any way you like, but each group must consist of either 2 or 3 people. Please submit your group information to eDimension as soon as possible if you have not yet done so (the deadline was 11th October 2024).\n",
    "\n",
    "- Each group should submit code along with a report summarizing your work, and provide clear instructions on how to run your code. Additionally, please submit your system's outputs. The output should be in the same column format as the training set.\n",
    "\n",
    "- You are given **8** weeks to work on the project. We understand this is a busy time during your final term, so Week **13** will be reserved as the \"Final Project Week\" for you to focus on the project (i.e., there will be no classes that week). Please plan and manage your time well.\n",
    "\n",
    "- Please use Python to complete this project."
   ]
  },
  {
   "cell_type": "markdown",
   "metadata": {
    "id": "KHVq2lTtG72t"
   },
   "source": [
    "# Project Summary\n",
    "Welcome to the design project for our natural language processing (NLP) course offered at SUTD!\n",
    "\n",
    "In this project, you will undertake an NLP task in _sentiment analysis_. We will begin by guiding you through data understanding, pre-processing, and instructing you to construct RNN and CNN models for the task. Afterward, you are encouraged to develop your own model to improve the results. The final test set will be released on **11 December 2024 at 5pm** (48 hours before the final project deadline). You will use your own system to generate the outputs. The system with the highest F1 score will be announced as the winner for each challenge. If no clear winner emerges from the test set results, further analysis or evaluations may be conducted."
   ]
  },
  {
   "cell_type": "markdown",
   "metadata": {
    "id": "F5wC4lqKCdXW"
   },
   "source": [
    "# Task Introduction and Data pre-processing (20 points)\n",
    "## Sentiment Analysis\n",
    "With the proliferation of online social media and review platforms, vast amounts of opinionated data have been generated, offering immense potential to support decision-making processes. Sentiment analysis examines people's sentiments expressed in text, such as product reviews, blog comments, and forum discussions. It finds wide applications in diverse fields, including politics (e.g., analyzing public sentiment towards policies), finance (e.g., evaluating market sentiments), and marketing (e.g., product research and brand management).\n",
    "\n",
    "Since sentiments can often be categorized into discrete polarities or scales (e.g., positive or negative), sentiment analysis can be framed as a text classification task. This task involves transforming text sequences of varying lengths into fixed-length categorical labels.\n",
    "\n",
    "## Data pre-processing\n",
    "In this project, we will utilize [Stanford's large movie review dataset](https://ai.stanford.edu/%7Eamaas/data/sentiment/) for sentiment analysis. The dataset consists of a training set and a testing set, each containing 25,000 movie reviews sourced from IMDb. Both datasets have an equal number of \"positive\" and \"negative\" labels, representing different sentiment polarities. Please download and extract this IMDb review dataset in the path `../data/aclImdb`.\n",
    "\n",
    "*Hints*: While the following instructions are based on a split of 25,000 for training and 25,000 for testing, you are free to choose your own dataset split, as we will provide a separate test set for the final evaluation. However, any changes you make to the default split must be clearly indicated in your report. Failure to explicitly mention such modifications may result in a penalty.\n",
    "\n"
   ]
  },
  {
   "cell_type": "code",
   "execution_count": 1,
   "metadata": {
    "id": "6ubeuufCG72u"
   },
   "outputs": [],
   "source": [
    "import os\n",
    "import torch\n",
    "from torch import nn\n",
    "from d2l import torch as d2l # You can skip this if you have trouble with this package, all d2l-related codes can be replaced by torch functions.\n",
    "import matplotlib.pyplot as plt\n",
    "from tqdm import tqdm"
   ]
  },
  {
   "cell_type": "code",
   "execution_count": 2,
   "metadata": {
    "colab": {
     "base_uri": "https://localhost:8080/"
    },
    "id": "GABlPxinG72u",
    "outputId": "bcd0ea41-8b0e-4435-bc6d-f47025538c01"
   },
   "outputs": [],
   "source": [
    "# # Skip this if you have already downloaded the dataset\n",
    "# d2l.DATA_HUB['aclImdb'] = (d2l.DATA_URL + 'aclImdb_v1.tar.gz',\n",
    "#                           '01ada507287d82875905620988597833ad4e0903')\n",
    "\n",
    "# data_dir = d2l.download_extract('aclImdb', 'aclImdb')"
   ]
  },
  {
   "cell_type": "markdown",
   "metadata": {
    "id": "Uh3-1TzIG72v"
   },
   "source": [
    "### If file unextracted, run cell below"
   ]
  },
  {
   "cell_type": "code",
   "execution_count": 3,
   "metadata": {
    "id": "1U7PsGaoG72v"
   },
   "outputs": [],
   "source": [
    "## Run if not extracted\n",
    "# import tarfile\n",
    "# if not os.path.exists('aclImdb'):\n",
    "#     with tarfile.open('aclImdb_v1.tar.gz', 'r:gz') as tar:\n",
    "#         tar.extractall()"
   ]
  },
  {
   "cell_type": "markdown",
   "metadata": {},
   "source": [
    "## Else, load data dir"
   ]
  },
  {
   "cell_type": "code",
   "execution_count": 4,
   "metadata": {},
   "outputs": [],
   "source": [
    "data_dir='aclImdb'"
   ]
  },
  {
   "cell_type": "markdown",
   "metadata": {},
   "source": [
    "## Random Seed for reproducibility"
   ]
  },
  {
   "cell_type": "code",
   "execution_count": 5,
   "metadata": {},
   "outputs": [],
   "source": [
    "seed = 42\n",
    "\n",
    "torch.manual_seed(seed)\n",
    "if torch.cuda.is_available():\n",
    "    torch.cuda.manual_seed_all(seed)\n",
    "    torch.backends.cudnn.deterministic = True\n",
    "    torch.backends.cudnn.benchmark = False\n"
   ]
  },
  {
   "cell_type": "markdown",
   "metadata": {
    "id": "xbba1GNsG72v"
   },
   "source": [
    "# Questions"
   ]
  },
  {
   "cell_type": "markdown",
   "metadata": {
    "id": "G0vxL-WpCdXX"
   },
   "source": [
    "### Question 1 [code] **(5 points)**\n",
    "Complete the function ``read_imdb``, which reads the IMDb review dataset text sequences and labels. Then, run the sanity check cell to check your implementation."
   ]
  },
  {
   "cell_type": "code",
   "execution_count": 6,
   "metadata": {
    "id": "TOyoT-QiCdXY"
   },
   "outputs": [],
   "source": [
    "#@save\n",
    "def read_imdb(data_dir, is_train):\n",
    "    \"\"\"Read the IMDb review dataset text sequences and labels.\"\"\"\n",
    "    ### YOUR CODE HERE\n",
    "    data, labels = [], []\n",
    "    folder = 'train' if is_train else 'test'\n",
    "    for label in ['pos', 'neg']:\n",
    "        label_dir = os.path.join(data_dir, folder, label)\n",
    "        for filename in os.listdir(label_dir):\n",
    "            with open(os.path.join(label_dir, filename), 'r', encoding='utf-8') as f:\n",
    "                data.append(f.read())\n",
    "            labels.append(1 if label == 'pos' else 0)\n",
    "    ### END OF YOUR CODE\n",
    "    return data, labels\n"
   ]
  },
  {
   "cell_type": "code",
   "execution_count": 7,
   "metadata": {
    "id": "JAyUZuWKG72v"
   },
   "outputs": [],
   "source": [
    "# data_dir = 'aclImdb'"
   ]
  },
  {
   "cell_type": "code",
   "execution_count": 8,
   "metadata": {
    "colab": {
     "base_uri": "https://localhost:8080/"
    },
    "id": "mTKHNmkSG72w",
    "outputId": "d43331b5-595b-4a8e-db29-6c997644129b"
   },
   "outputs": [
    {
     "name": "stdout",
     "output_type": "stream",
     "text": [
      "# trainings: 25000\n",
      "label: 1 review: Bromwell High is a cartoon comedy. It ran at the same time a\n",
      "label: 1 review: Homelessness (or Houselessness as George Carlin stated) has \n",
      "label: 1 review: Brilliant over-acting by Lesley Ann Warren. Best dramatic ho\n"
     ]
    }
   ],
   "source": [
    "# Sanity check\n",
    "train_data = read_imdb(data_dir, is_train=True)\n",
    "print('# trainings:', len(train_data[0]))\n",
    "for x, y in zip(train_data[0][:3], train_data[1][:3]):\n",
    "    print('label:', y, 'review:', x[:60])"
   ]
  },
  {
   "cell_type": "markdown",
   "metadata": {
    "id": "SBwtw6i0G72w"
   },
   "source": [
    "### Question 2 [code] **(5 points)**\n",
    "Treating each word as a token and filtering out words that appear less than 5 times, we create a vocabulary out of the training dataset. After tokenization, please plot the histogram of review lengths in tokens. (Hint: you can use ``matplotlib`` package to draw the histogram.) Then, run the sanity check cell to check your implementation."
   ]
  },
  {
   "cell_type": "code",
   "execution_count": 9,
   "metadata": {
    "id": "35hsxxkSG72w"
   },
   "outputs": [],
   "source": [
    "train_tokens = d2l.tokenize(train_data[0], token='word')\n",
    "vocab = d2l.Vocab(train_tokens, min_freq=5, reserved_tokens=['<pad>'])"
   ]
  },
  {
   "cell_type": "code",
   "execution_count": 10,
   "metadata": {
    "colab": {
     "base_uri": "https://localhost:8080/",
     "height": 564
    },
    "id": "GoFr3QR0G72w",
    "outputId": "31bd1ad0-6d7b-4cbd-d734-a222b6152ff1"
   },
   "outputs": [
    {
     "data": {
      "image/png": "[encoded data removed]",
      "text/plain": [
       "<Figure size 1000x600 with 1 Axes>"
      ]
     },
     "metadata": {},
     "output_type": "display_data"
    }
   ],
   "source": [
    "# xlabel: # tokens per review\n",
    "# ylabel: count\n",
    "### YOUR CODE HERE\n",
    "review_lengths = [len(tokens) for tokens in train_tokens]\n",
    "\n",
    "# Plot the histogram for review lengths\n",
    "plt.figure(figsize=(10, 6))\n",
    "plt.hist(review_lengths, bins=30, edgecolor='black')\n",
    "plt.xlabel('# tokens per review')\n",
    "plt.ylabel('count')\n",
    "plt.title('Distribution of Review Lengths in Tokens')\n",
    "plt.show()\n",
    "### END OF YOUR CODE"
   ]
  },
  {
   "cell_type": "code",
   "execution_count": 11,
   "metadata": {
    "colab": {
     "base_uri": "https://localhost:8080/"
    },
    "id": "HKlkbhvQG72w",
    "outputId": "31f25eb1-2f78-425d-c4e6-fa1e305e27ea"
   },
   "outputs": [
    {
     "name": "stdout",
     "output_type": "stream",
     "text": [
      "torch.Size([25000, 500])\n"
     ]
    }
   ],
   "source": [
    "num_steps = 500  # sequence length\n",
    "train_features = torch.tensor([d2l.truncate_pad(\n",
    "    vocab[line], num_steps, vocab['<pad>']) for line in train_tokens])\n",
    "print(train_features.shape)"
   ]
  },
  {
   "cell_type": "markdown",
   "metadata": {
    "id": "pjoyAb8VG72x"
   },
   "source": [
    "### Question 3 [code] **(5 points)**\n",
    "Create data iterator ``train_iter``, at each iteration, a minibatch of examples are returned. Let's set the mini-batch size to 64.\n",
    "\n"
   ]
  },
  {
   "cell_type": "code",
   "execution_count": 12,
   "metadata": {
    "colab": {
     "base_uri": "https://localhost:8080/"
    },
    "id": "n9x7fWPaG72x",
    "outputId": "44a3e3a6-d74c-4dc2-b484-7174bd0ed3ce"
   },
   "outputs": [
    {
     "name": "stdout",
     "output_type": "stream",
     "text": [
      "X: torch.Size([64, 500]) , y: torch.Size([64])\n",
      "# batches: 391\n"
     ]
    }
   ],
   "source": [
    "### YOUR CODE HERE\n",
    "from torch.utils.data import DataLoader, TensorDataset\n",
    "\n",
    "train_labels = train_data[1]\n",
    "batch_size = 64\n",
    "train_dataset = TensorDataset(train_features, torch.tensor(train_labels))\n",
    "train_iter = DataLoader(train_dataset, batch_size=batch_size, shuffle=True)\n",
    "\n",
    "### END OF YOUR CODE\n",
    "\n",
    "for X, y in train_iter:\n",
    "    print('X:', X.shape, ', y:', y.shape)\n",
    "    break\n",
    "print('# batches:', len(train_iter))"
   ]
  },
  {
   "cell_type": "markdown",
   "metadata": {
    "id": "PVpoDgU7CdXb"
   },
   "source": [
    "### Question 4 [code] **(5 points)**\n",
    "Finally, wrap up the above steps into the ``load_data_imdb`` function. It returns training and test data iterators and the vocabulary of the IMDb review dataset.\n"
   ]
  },
  {
   "cell_type": "code",
   "execution_count": 13,
   "metadata": {
    "id": "SUjNKfuhG72x"
   },
   "outputs": [],
   "source": [
    "#@save\n",
    "def load_data_imdb(batch_size, num_steps=500):\n",
    "    \"\"\"Return data iterators and the vocabulary of the IMDb review dataset.\"\"\"\n",
    "    ### YOUR CODE HERE\n",
    "\n",
    "    # training data\n",
    "    train_data, train_labels = read_imdb(data_dir, is_train=True)\n",
    "    train_tokens = d2l.tokenize(train_data, token='word')\n",
    "    vocab = d2l.Vocab(train_tokens, min_freq=5, reserved_tokens=['<pad>'])\n",
    "\n",
    "    train_features = torch.tensor(\n",
    "        [d2l.truncate_pad(vocab[line], num_steps, vocab['<pad>']) for line in train_tokens]\n",
    "    )\n",
    "    train_labels = torch.tensor(train_labels)\n",
    "    train_dataset = TensorDataset(train_features, train_labels)\n",
    "    train_iter = DataLoader(train_dataset, batch_size=batch_size, shuffle=True)\n",
    "\n",
    "    # test data\n",
    "    test_data, test_labels = read_imdb(data_dir, is_train=False)\n",
    "    test_tokens = d2l.tokenize(test_data, token='word')\n",
    "    test_features = torch.tensor(\n",
    "        [d2l.truncate_pad(vocab[line], num_steps, vocab['<pad>']) for line in test_tokens]\n",
    "    )\n",
    "    test_labels = torch.tensor(test_labels)\n",
    "    test_dataset = TensorDataset(test_features, test_labels)\n",
    "    test_iter = DataLoader(test_dataset, batch_size=batch_size)\n",
    "\n",
    "    ### END OF YOUR CODE\n",
    "    return train_iter, test_iter, vocab"
   ]
  },
  {
   "cell_type": "code",
   "execution_count": 14,
   "metadata": {
    "colab": {
     "base_uri": "https://localhost:8080/"
    },
    "id": "K2RSrLo1G72x",
    "outputId": "d95fdc56-3daf-45d7-b85f-c92e7f0ed7fe"
   },
   "outputs": [
    {
     "name": "stdout",
     "output_type": "stream",
     "text": [
      "Vocabulary size: 49347\n",
      "Train batch X shape: torch.Size([64, 500])\n",
      "Train batch y shape: torch.Size([64])\n",
      "Test batch X shape: torch.Size([64, 500])\n",
      "Test batch y shape: torch.Size([64])\n",
      "Train batches: 391\n",
      "Test batches: 391\n"
     ]
    }
   ],
   "source": [
    "## for testing only\n",
    "batch_size = 64\n",
    "num_steps = 500\n",
    "\n",
    "train_iter, test_iter, vocab = load_data_imdb(batch_size, num_steps)\n",
    "\n",
    "print(\"Vocabulary size:\", len(vocab))\n",
    "\n",
    "for X, y in train_iter:\n",
    "    print(\"Train batch X shape:\", X.shape)\n",
    "    print(\"Train batch y shape:\", y.shape)\n",
    "    break\n",
    "\n",
    "for X, y in test_iter:\n",
    "    print(\"Test batch X shape:\", X.shape)\n",
    "    print(\"Test batch y shape:\", y.shape)\n",
    "    break\n",
    "\n",
    "print(\"Train batches:\", len(train_iter))\n",
    "print(\"Test batches:\", len(test_iter))\n"
   ]
  },
  {
   "cell_type": "markdown",
   "metadata": {
    "id": "2kAezpJ9CdXd"
   },
   "source": [
    "# Using RNN for sentiment analysis (30 points)\n",
    "Similar to word similarity and analogy tasks, pre-trained word vectors can also be applied to sentiment analysis. Given that the IMDb review dataset is relatively small, using text representations pre-trained on large-scale corpora can help mitigate model overfitting. Each token can be represented using the pre-trained GloVe model, and these token embeddings can be fed into a multilayer bidirectional RNN to generate a sequence representation of the text, which will then be transformed into sentiment analysis outputs. Later, we will explore an alternative architectural approach for the same downstream task."
   ]
  },
  {
   "cell_type": "markdown",
   "metadata": {
    "id": "nE6DIsmfG72x"
   },
   "source": [
    "### Question 5 [code] **(10 points)**\n",
    "In text classification tasks, such as sentiment analysis, a varying-length text sequence is transformed into fixed-length categorical labels. Following the instructions, please complete ``BiRNN`` class, each token in a text sequence receives its individual pre-trained GloVe representation through the embedding layer (``self.embedding``). The entire sequence is then encoded by a bidirectional RNN (``self.encoder``). Specifically, the hidden states from the last layer of the bidirectional LSTM, at both the initial and final time steps, are concatenated to form the representation of the text sequence. This representation is subsequently passed through a fully connected layer (``self.decoder``) to produce the final output categories, which in this case are \"positive\" and \"negative\"."
   ]
  },
  {
   "cell_type": "code",
   "execution_count": 15,
   "metadata": {
    "id": "P8Z0U65kG72y"
   },
   "outputs": [],
   "source": [
    "batch_size = 64\n",
    "train_iter, test_iter, vocab = load_data_imdb(batch_size)"
   ]
  },
  {
   "cell_type": "code",
   "execution_count": 16,
   "metadata": {
    "id": "zO4jGC6zG72y"
   },
   "outputs": [],
   "source": [
    "class BiRNN(nn.Module):\n",
    "    def __init__(self, vocab_size, embed_size, num_hiddens,\n",
    "                 num_layers, **kwargs):\n",
    "        super(BiRNN, self).__init__(**kwargs)\n",
    "        self.embedding = nn.Embedding(vocab_size, embed_size)\n",
    "        # Set `bidirectional` to True to get a bidirectional RNN\n",
    "        self.encoder = nn.LSTM(embed_size, num_hiddens, num_layers=num_layers,\n",
    "                                bidirectional=True)\n",
    "        self.decoder = nn.Linear(4 * num_hiddens, 2)\n",
    "\n",
    "    def forward(self, inputs):\n",
    "        # The shape of `inputs` is (batch size, no. of time steps). Because\n",
    "        # LSTM requires its input's first dimension to be the temporal\n",
    "        # dimension, the input is transposed before obtaining token\n",
    "        # representations. The output shape is (no. of time steps, batch size,\n",
    "        # word vector dimension)\n",
    "\n",
    "        # Returns hidden states of the last hidden layer at different time\n",
    "        # steps. The shape of `outputs` is (no. of time steps, batch size,\n",
    "        # 2 * no. of hidden units)\n",
    "\n",
    "        # Concatenate the hidden states at the initial and final time steps as\n",
    "        # the input of the fully connected layer. Its shape is (batch size,\n",
    "        # 4 * no. of hidden units)\n",
    "\n",
    "        ### YOUR CODE HERE\n",
    "        embeddings = self.embedding(inputs.T)\n",
    "        outputs, _ = self.encoder(embeddings)\n",
    "        encoding = torch.cat((outputs[0], outputs[-1]), dim=1)\n",
    "        outs = self.decoder(encoding)\n",
    "\n",
    "\n",
    "        ### END OF YOUR CODE\n",
    "\n",
    "        return outs"
   ]
  },
  {
   "cell_type": "markdown",
   "metadata": {
    "id": "XPSSG4JbG72y"
   },
   "source": [
    "Let’s construct a bidirectional RNN with two hidden layers to represent single text for sentiment analysis."
   ]
  },
  {
   "cell_type": "code",
   "execution_count": 17,
   "metadata": {
    "colab": {
     "base_uri": "https://localhost:8080/"
    },
    "id": "QOgbFC42G72y",
    "outputId": "a13eb224-1540-41e4-c0b8-3bb35950d294"
   },
   "outputs": [
    {
     "data": {
      "text/plain": [
       "BiRNN(\n",
       "  (embedding): Embedding(49347, 100)\n",
       "  (encoder): LSTM(100, 100, num_layers=2, bidirectional=True)\n",
       "  (decoder): Linear(in_features=400, out_features=2, bias=True)\n",
       ")"
      ]
     },
     "execution_count": 17,
     "metadata": {},
     "output_type": "execute_result"
    }
   ],
   "source": [
    "embed_size, num_hiddens, num_layers, devices = 100, 100, 2, d2l.try_all_gpus()\n",
    "net = BiRNN(len(vocab), embed_size, num_hiddens, num_layers)\n",
    "\n",
    "def init_weights(module):\n",
    "    if type(module) == nn.Linear:\n",
    "        nn.init.xavier_uniform_(module.weight)\n",
    "    if type(module) == nn.LSTM:\n",
    "        for param in module._flat_weights_names:\n",
    "            if \"weight\" in param:\n",
    "                nn.init.xavier_uniform_(module._parameters[param])\n",
    "net.apply(init_weights)"
   ]
  },
  {
   "cell_type": "markdown",
   "metadata": {
    "id": "HWi96saXG72y"
   },
   "source": [
    "### Loading Pretrained Word Vectors"
   ]
  },
  {
   "cell_type": "code",
   "execution_count": 18,
   "metadata": {
    "colab": {
     "base_uri": "https://localhost:8080/"
    },
    "id": "0Dwskg6PG72y",
    "outputId": "cd6a213c-63f2-47ff-8c8d-33e5fcddd126"
   },
   "outputs": [
    {
     "data": {
      "text/plain": [
       "torch.Size([49347, 100])"
      ]
     },
     "execution_count": 18,
     "metadata": {},
     "output_type": "execute_result"
    }
   ],
   "source": [
    "glove_embedding = d2l.TokenEmbedding('glove.6b.100d')\n",
    "embeds = glove_embedding[vocab.idx_to_token]\n",
    "embeds.shape # Print the shape of the vectors for all the tokens in the vocabulary."
   ]
  },
  {
   "cell_type": "markdown",
   "metadata": {
    "id": "SUCS0O5WG72z"
   },
   "source": [
    "We use these pretrained word vectors to represent tokens in the reviews and will not update these vectors during training"
   ]
  },
  {
   "cell_type": "code",
   "execution_count": 19,
   "metadata": {
    "id": "c-EhJy3iG72z"
   },
   "outputs": [],
   "source": [
    "net.embedding.weight.data.copy_(embeds)\n",
    "net.embedding.weight.requires_grad = False"
   ]
  },
  {
   "cell_type": "markdown",
   "metadata": {
    "id": "mv6F_WkjG72z"
   },
   "source": [
    "### Question 6 [code] **(10 points)**\n",
    "After loading the pretrained word vectors, we can now start to train the model. Please use ``Adam`` optimizer and ``CrossEntropyLoss`` for training and draw a graph about your training loss, training acc and testing acc."
   ]
  },
  {
   "cell_type": "code",
   "execution_count": null,
   "metadata": {
    "colab": {
     "base_uri": "https://localhost:8080/",
     "height": 885
    },
    "id": "da_J8kZ-G72z",
    "outputId": "a6e0947e-2817-4f12-f965-666d6e9ce015",
    "scrolled": true
   },
   "outputs": [
    {
     "name": "stdout",
     "output_type": "stream",
     "text": [
      "cuda\n"
     ]
    },
    {
     "name": "stderr",
     "output_type": "stream",
     "text": [
      "  0%|          | 0/391 [00:07<?, ?batch/s]\n"
     ]
    },
    {
     "name": "stdout",
     "output_type": "stream",
     "text": [
      "Epoch [1/5], Loss: 0.5931, Train Accuracy: 65.84%\n",
      "Test Loss: 0.4107, Test Accuracy: 81.23%\n"
     ]
    },
    {
     "name": "stderr",
     "output_type": "stream",
     "text": [
      "  0%|          | 0/391 [00:07<?, ?batch/s]\n"
     ]
    },
    {
     "name": "stdout",
     "output_type": "stream",
     "text": [
      "Epoch [2/5], Loss: 0.3716, Train Accuracy: 83.92%\n",
      "Test Loss: 0.3453, Test Accuracy: 84.70%\n"
     ]
    },
    {
     "name": "stderr",
     "output_type": "stream",
     "text": [
      "  0%|          | 0/391 [00:14<?, ?batch/s]\n"
     ]
    },
    {
     "name": "stdout",
     "output_type": "stream",
     "text": [
      "Epoch [3/5], Loss: 0.3186, Train Accuracy: 86.49%\n",
      "Test Loss: 0.3554, Test Accuracy: 84.46%\n"
     ]
    },
    {
     "name": "stderr",
     "output_type": "stream",
     "text": [
      "  0%|          | 0/391 [00:06<?, ?batch/s]\n"
     ]
    },
    {
     "name": "stdout",
     "output_type": "stream",
     "text": [
      "Epoch [4/5], Loss: 0.2822, Train Accuracy: 88.20%\n",
      "Test Loss: 0.3226, Test Accuracy: 86.58%\n"
     ]
    },
    {
     "name": "stderr",
     "output_type": "stream",
     "text": [
      "  0%|          | 0/391 [00:07<?, ?batch/s]\n"
     ]
    },
    {
     "name": "stdout",
     "output_type": "stream",
     "text": [
      "Epoch [5/5], Loss: 0.2539, Train Accuracy: 89.59%\n",
      "Test Loss: 0.3208, Test Accuracy: 86.50%\n"
     ]
    },
    {
     "data": {
      "image/png": "[encoded data removed]",
      "text/plain": [
       "<Figure size 1600x600 with 4 Axes>"
      ]
     },
     "metadata": {},
     "output_type": "display_data"
    }
   ],
   "source": [
    "lr, num_epochs = 0.01, 5\n",
    "### YOUR CODE HERE\n",
    "trainer = torch.optim.Adam(net.parameters(), lr=lr)\n",
    "loss = nn.CrossEntropyLoss()\n",
    "# this is just in case some of us do not have cuda / not using cuda\n",
    "if torch.cuda.is_available():\n",
    "    device = torch.device('cuda')\n",
    "else:\n",
    "    device = torch.device('cpu')\n",
    "print(device)\n",
    "net = net.to(device)\n",
    "\n",
    "train_losses = []\n",
    "test_losses = []\n",
    "train_accuracies = []\n",
    "test_accuracies = []\n",
    "\n",
    "best_test_loss = float('inf')\n",
    "rnn_model_path = \"./weights/best_rnn_model.pth\"\n",
    "\n",
    "for epoch in range(num_epochs):\n",
    "    net.train()\n",
    "    epoch_loss = 0\n",
    "    correct = 0\n",
    "    total = 0\n",
    "    with tqdm(train_iter, unit=\"batch\") as tepoch:\n",
    "        for i, (X, y) in enumerate(train_iter):\n",
    "            X, y = X.to(device), y.to(device)\n",
    "            y_hat = net(X)\n",
    "            l = loss(y_hat, y)\n",
    "            trainer.zero_grad()\n",
    "            l.backward()\n",
    "            trainer.step()\n",
    "\n",
    "            epoch_loss += l.item()\n",
    "            _, predicted = torch.max(y_hat, 1)\n",
    "            total += y.size(0)\n",
    "            correct += (predicted == y).sum().item()\n",
    "\n",
    "    avg_loss = epoch_loss / len(train_iter)\n",
    "    train_accuracy = 100. * correct / total\n",
    "\n",
    "    train_losses.append(avg_loss)\n",
    "    train_accuracies.append(train_accuracy)\n",
    "\n",
    "    print(f'Epoch [{epoch + 1}/{num_epochs}], Loss: {avg_loss:.4f}, Train Accuracy: {train_accuracy:.2f}%')\n",
    "\n",
    "    net.eval()\n",
    "    test_loss = 0\n",
    "    correct = 0\n",
    "    total = 0\n",
    "\n",
    "    with torch.no_grad():\n",
    "        for X, y in test_iter:\n",
    "            X, y = X.to(device), y.to(device)\n",
    "            y_hat = net(X)\n",
    "            l = loss(y_hat, y)\n",
    "            test_loss += l.item()\n",
    "            _, predicted = torch.max(y_hat, 1)\n",
    "            total += y.size(0)\n",
    "            correct += (predicted == y).sum().item()\n",
    "\n",
    "    test_loss /= len(test_iter)\n",
    "    test_losses.append(test_loss)\n",
    "    test_accuracy = 100. * correct / total\n",
    "    test_accuracies.append(test_accuracy)\n",
    "\n",
    "    if test_loss < best_test_loss:\n",
    "        best_test_loss = test_loss\n",
    "        torch.save(net.state_dict(), rnn_model_path)\n",
    "\n",
    "\n",
    "    print(f'Test Loss: {test_loss:.4f}, Test Accuracy: {test_accuracy:.2f}%')\n",
    "\n",
    "epochs = range(1, num_epochs + 1)\n",
    "\n",
    "epochs = range(1, num_epochs + 1)\n",
    "plt.figure(figsize=(16, 6))\n",
    "\n",
    "plt.subplot(1, 4, 1)\n",
    "plt.plot(epochs, train_losses, 'b-o')\n",
    "plt.title('Training Loss')\n",
    "plt.xlabel('Epoch')\n",
    "plt.ylabel('Loss')\n",
    "\n",
    "plt.subplot(1, 4, 2)\n",
    "plt.plot(epochs, test_losses, 'r-o')\n",
    "plt.title('Test Loss')\n",
    "plt.xlabel('Epoch')\n",
    "plt.ylabel('Loss')\n",
    "\n",
    "plt.subplot(1, 4, 3)\n",
    "plt.plot(epochs, train_accuracies, 'g-o')\n",
    "plt.title('Training Accuracy')\n",
    "plt.xlabel('Epoch')\n",
    "plt.ylabel('Accuracy')\n",
    "\n",
    "plt.subplot(1, 4, 4)\n",
    "plt.plot(epochs, test_accuracies, 'm-o')\n",
    "plt.title('Test Accuracy')\n",
    "plt.xlabel('Epoch')\n",
    "plt.ylabel('Accuracy')\n",
    "\n",
    "plt.tight_layout()\n",
    "plt.show()\n",
    "\n",
    "\n",
    "### END OF YOUR CODE"
   ]
  },
  {
   "cell_type": "markdown",
   "metadata": {
    "id": "wqKKv9jGG72z"
   },
   "source": [
    "### Question 7 [code] **(10 points)**\n",
    "Once you have completed the training, it's time to evaluate your model's performance. Implement the function ``predict_sentiment`` to predict the sentiment of a text sequence using the trained model ``net``. Next, define the function ``cal_metrics`` to assess your model on the test set by calculating both accuracy and the F1-score, including precision and recall. Finally, print out the evaluation results. Save the prediction results for each test sample and submit it in the zip file."
   ]
  },
  {
   "cell_type": "code",
   "execution_count": 21,
   "metadata": {
    "id": "tyV83uLVG72z"
   },
   "outputs": [],
   "source": [
    "#@save\n",
    "def predict_sentiment(net, vocab, sequence):\n",
    "    \"\"\"Predict the sentiment of a text sequence.\"\"\"\n",
    "    ### YOUR CODE HERE\n",
    "    net.eval()\n",
    "    tokens = d2l.tokenize([sequence], token='word')[0]\n",
    "    seq_indices = vocab[tokens]\n",
    "    num_steps = 500\n",
    "    seq_indices = d2l.truncate_pad(seq_indices, num_steps, vocab['<pad>'])\n",
    "    seq_tensor = torch.tensor(seq_indices).unsqueeze(0)\n",
    "    device = next(net.parameters()).device\n",
    "    seq_tensor = seq_tensor.to(device)\n",
    "    with torch.no_grad():\n",
    "        outputs = net(seq_tensor)\n",
    "        label = torch.argmax(outputs, dim=1).item()\n",
    "    ### END OF YOUR CODE\n",
    "    return 'positive' if label == 1 else 'negative'"
   ]
  },
  {
   "cell_type": "code",
   "execution_count": 22,
   "metadata": {
    "colab": {
     "base_uri": "https://localhost:8080/",
     "height": 35
    },
    "id": "CxdC72x_G720",
    "outputId": "27d32f38-366c-4e2e-b971-de4229483974"
   },
   "outputs": [
    {
     "data": {
      "text/plain": [
       "'positive'"
      ]
     },
     "execution_count": 22,
     "metadata": {},
     "output_type": "execute_result"
    }
   ],
   "source": [
    "predict_sentiment(net, vocab, 'this movie is so great')"
   ]
  },
  {
   "cell_type": "code",
   "execution_count": 23,
   "metadata": {
    "colab": {
     "base_uri": "https://localhost:8080/",
     "height": 35
    },
    "id": "jy812K6GG720",
    "outputId": "faed3cd0-be85-4b94-dd43-0d13355961d1"
   },
   "outputs": [
    {
     "data": {
      "text/plain": [
       "'negative'"
      ]
     },
     "execution_count": 23,
     "metadata": {},
     "output_type": "execute_result"
    }
   ],
   "source": [
    "predict_sentiment(net, vocab, 'this movie is so bad')"
   ]
  },
  {
   "cell_type": "code",
   "execution_count": 24,
   "metadata": {
    "id": "XR3lR6XlG720"
   },
   "outputs": [],
   "source": [
    "def cal_metrics(net, data_iter): # you can define what input you need in this function\n",
    "    # Rember to output your prediction results and submit together in the zip file\n",
    "    # You can do it within this function, or you create a new function to save the output, both methods are fine\n",
    "    ### YOUR CODE HERE\n",
    "    import torch\n",
    "    from sklearn.metrics import precision_score, recall_score, f1_score, accuracy_score\n",
    "\n",
    "    net.eval()\n",
    "    y_true = []\n",
    "    y_pred = []\n",
    "\n",
    "    device = next(net.parameters()).device\n",
    "\n",
    "    with torch.no_grad():\n",
    "        for X, y in data_iter:\n",
    "            X = X.to(device)\n",
    "            y = y.to(device)\n",
    "            outputs = net(X)\n",
    "            _, predicted = torch.max(outputs, 1)\n",
    "            y_true.extend(y.cpu().numpy())\n",
    "            y_pred.extend(predicted.cpu().numpy())\n",
    "    precision = precision_score(y_true, y_pred, average='binary')\n",
    "    recall = recall_score(y_true, y_pred, average='binary')\n",
    "    F1_Score = f1_score(y_true, y_pred, average='binary')\n",
    "    accuracy = accuracy_score(y_true, y_pred)\n",
    "    ### END OF YOUR CODE\n",
    "\n",
    "    return F1_Score, precision, recall, accuracy"
   ]
  },
  {
   "cell_type": "code",
   "execution_count": 25,
   "metadata": {
    "colab": {
     "base_uri": "https://localhost:8080/"
    },
    "id": "v36rhUGTG720",
    "outputId": "aa029484-5ced-41e7-c4b8-d5ea4d8128ad"
   },
   "outputs": [
    {
     "data": {
      "text/plain": [
       "(0.861504370306537, 0.8844047518746314, 0.83976, 0.865)"
      ]
     },
     "execution_count": 25,
     "metadata": {},
     "output_type": "execute_result"
    }
   ],
   "source": [
    "cal_metrics(net, test_iter)"
   ]
  },
  {
   "cell_type": "markdown",
   "metadata": {
    "id": "RIfNJIuQG720"
   },
   "source": [
    "# Using CNN for sentiment analysis (20 points)\n",
    "Although CNNs were originally designed for computer vision, they have been widely adopted in natural language processing as well. Conceptually, a text sequence can be viewed as a one-dimensional image, allowing one-dimensional CNNs to capture local features, such as n-grams, within the text. We will use the textCNN model to demonstrate how to design a CNN architecture for representing a single text.\n",
    "\n",
    "Using one-dimensional convolution and max-over-time pooling, the textCNN model takes individual pre-trained token representations as input, then extracts and transforms these sequence representations for downstream tasks.\n",
    "\n",
    "For a single text sequence with $n$ tokens represented by $d$-dimensional vectors, the width, height, and number of channels of the input tensor are $n$, $1$, and $d$, respectively. The textCNN model processes the input as follows:\n",
    "\n",
    "1. Define multiple one-dimensional convolutional kernels and apply convolution operations on the inputs. Convolution kernels with varying widths capture local features across different numbers of adjacent tokens.\n",
    "2. Apply max-over-time pooling to all output channels, then concatenate the resulting scalar outputs into a vector.\n",
    "3. Pass the concatenated vector through a fully connected layer to generate the output categories. Dropout can be applied to reduce overfitting."
   ]
  },
  {
   "cell_type": "markdown",
   "metadata": {
    "id": "rcex77x3G720"
   },
   "source": [
    "### Question 8 [code] **(10 points)**\n",
    "Implement the ``textCNN`` model class. Compared with the bidirectional RNN model in Section 2, besides replacing recurrent layers with convolutional layers, we also use two embedding layers: one with trainable weights and the other with fixed weights."
   ]
  },
  {
   "cell_type": "code",
   "execution_count": 26,
   "metadata": {
    "id": "B-8LAhBfG720"
   },
   "outputs": [],
   "source": [
    "batch_size = 64\n",
    "# train_iter, test_iter, vocab = d2l.load_data_imdb(batch_size)\n",
    "train_iter, test_iter, vocab = load_data_imdb(batch_size, num_steps)"
   ]
  },
  {
   "cell_type": "code",
   "execution_count": 27,
   "metadata": {
    "id": "AjGtMCMCG721"
   },
   "outputs": [],
   "source": [
    "class TextCNN(nn.Module):\n",
    "    def __init__(self, vocab_size, embed_size, kernel_sizes, num_channels,\n",
    "                 **kwargs):\n",
    "        super(TextCNN, self).__init__(**kwargs)\n",
    "        self.embedding = nn.Embedding(vocab_size, embed_size)\n",
    "        # The embedding layer not to be trained\n",
    "        self.constant_embedding = nn.Embedding(vocab_size, embed_size)\n",
    "        self.dropout = nn.Dropout(0.5)\n",
    "        self.decoder = nn.Linear(sum(num_channels), 2)\n",
    "        # The max-over-time pooling layer has no parameters, so this instance\n",
    "        # can be shared\n",
    "        self.pool = nn.AdaptiveAvgPool1d(1)\n",
    "        self.relu = nn.ReLU()\n",
    "        # Create multiple one-dimensional convolutional layers\n",
    "        self.convs = nn.ModuleList()\n",
    "        for c, k in zip(num_channels, kernel_sizes):\n",
    "            self.convs.append(nn.Conv1d(2 * embed_size, c, k))\n",
    "\n",
    "    def forward(self, inputs):\n",
    "        # Concatenate two embedding layer outputs with shape (batch size, no.\n",
    "        # of tokens, token vector dimension) along vectors\n",
    "\n",
    "        # Per the input format of one-dimensional convolutional layers,\n",
    "        # rearrange the tensor so that the second dimension stores channels\n",
    "\n",
    "        # For each one-dimensional convolutional layer, after max-over-time\n",
    "        # pooling, a tensor of shape (batch size, no. of channels, 1) is\n",
    "        # obtained. Remove the last dimension and concatenate along channels\n",
    "\n",
    "        ### YOUR CODE HERE\n",
    "        embeddings = torch.cat((\n",
    "            self.embedding(inputs),\n",
    "            self.constant_embedding(inputs)\n",
    "        ), dim=2)\n",
    "\n",
    "        embeddings = embeddings.permute(0, 2, 1)\n",
    "\n",
    "        conv_outputs = []\n",
    "        for conv in self.convs:\n",
    "            conv_out = self.relu(conv(embeddings))\n",
    "            pooled = self.pool(conv_out).squeeze(-1)\n",
    "            conv_outputs.append(pooled)\n",
    "\n",
    "        encoding = torch.cat(conv_outputs, dim=1)\n",
    "        outputs = self.dropout(encoding)\n",
    "\n",
    "        outputs = self.decoder(outputs)\n",
    "        ### END OF YOUR CODE\n",
    "\n",
    "        return outputs"
   ]
  },
  {
   "cell_type": "code",
   "execution_count": 28,
   "metadata": {
    "id": "MD6KxnDlG721",
    "outputId": "10bfa38f-9924-4662-f169-bc2293bece0b"
   },
   "outputs": [
    {
     "data": {
      "text/plain": [
       "TextCNN(\n",
       "  (embedding): Embedding(49347, 100)\n",
       "  (constant_embedding): Embedding(49347, 100)\n",
       "  (dropout): Dropout(p=0.5, inplace=False)\n",
       "  (decoder): Linear(in_features=300, out_features=2, bias=True)\n",
       "  (pool): AdaptiveAvgPool1d(output_size=1)\n",
       "  (relu): ReLU()\n",
       "  (convs): ModuleList(\n",
       "    (0): Conv1d(200, 100, kernel_size=(3,), stride=(1,))\n",
       "    (1): Conv1d(200, 100, kernel_size=(4,), stride=(1,))\n",
       "    (2): Conv1d(200, 100, kernel_size=(5,), stride=(1,))\n",
       "  )\n",
       ")"
      ]
     },
     "execution_count": 28,
     "metadata": {},
     "output_type": "execute_result"
    }
   ],
   "source": [
    "embed_size, kernel_sizes, nums_channels = 100, [3, 4, 5], [100, 100, 100]\n",
    "devices = d2l.try_all_gpus()\n",
    "net = TextCNN(len(vocab), embed_size, kernel_sizes, nums_channels)\n",
    "\n",
    "def init_weights(module):\n",
    "    if type(module) in (nn.Linear, nn.Conv1d):\n",
    "        nn.init.xavier_uniform_(module.weight)\n",
    "\n",
    "net.apply(init_weights)"
   ]
  },
  {
   "cell_type": "code",
   "execution_count": 29,
   "metadata": {
    "id": "dTzfoDLoG721"
   },
   "outputs": [],
   "source": [
    "from d2l import torch as d2l\n",
    "import os\n",
    "\n",
    "# i added this section because i had probs w the reading of glove embedding, can remove if no issues\n",
    "class CustomTokenEmbedding(d2l.TokenEmbedding):\n",
    "    def _load_embedding(self, embedding_name):\n",
    "        idx_to_token, idx_to_vec = ['<unk>'], []\n",
    "        data_dir = d2l.download_extract(embedding_name)\n",
    "        with open(os.path.join(data_dir, 'vec.txt'), 'r', encoding='utf-8') as f:\n",
    "            for line in f:\n",
    "                elems = line.rstrip().split(' ')\n",
    "                token, elems = elems[0], [float(elem) for elem in elems[1:]]\n",
    "                idx_to_token.append(token)\n",
    "                idx_to_vec.append(elems)\n",
    "        idx_to_vec = [[0.0] * len(idx_to_vec[0])] + idx_to_vec\n",
    "        return idx_to_token, torch.tensor(idx_to_vec)\n",
    "\n",
    "glove_embedding = CustomTokenEmbedding('glove.6b.100d')\n",
    "embeds = glove_embedding[vocab.idx_to_token]\n",
    "net.embedding.weight.data.copy_(embeds)\n",
    "net.constant_embedding.weight.data.copy_(embeds)\n",
    "net.constant_embedding.weight.requires_grad = False"
   ]
  },
  {
   "cell_type": "code",
   "execution_count": 30,
   "metadata": {
    "id": "T0uSDDHpG721"
   },
   "outputs": [],
   "source": [
    "# glove_embedding = d2l.TokenEmbedding('glove.6b.100d')\n",
    "# embeds = glove_embedding[vocab.idx_to_token]\n",
    "# net.embedding.weight.data.copy_(embeds)\n",
    "# net.constant_embedding.weight.data.copy_(embeds)\n",
    "# net.constant_embedding.weight.requires_grad = False"
   ]
  },
  {
   "cell_type": "markdown",
   "metadata": {
    "id": "lEnwgWC7G721"
   },
   "source": [
    "### Question 9 [code] **(10 points)**\n",
    "Similar to what we have done in Section 2 with RNN, train the CNN model with the same optimizer and loss function. Draw a graph about your training loss, training acc and testing acc. Use the prediction function you defined in Question 7 to evaluate your model performance."
   ]
  },
  {
   "cell_type": "code",
   "execution_count": null,
   "metadata": {
    "id": "rIaP8VxeG721",
    "outputId": "303a33dc-d68b-4f4b-de35-93d35c931c7d"
   },
   "outputs": [
    {
     "name": "stdout",
     "output_type": "stream",
     "text": [
      "Epoch 1, Loss: 0.5240, Train Acc: 0.741, Test Acc: 0.858\n",
      "Epoch 2, Loss: 0.2896, Train Acc: 0.890, Test Acc: 0.878\n",
      "Epoch 3, Loss: 0.1850, Train Acc: 0.933, Test Acc: 0.886\n",
      "Epoch 4, Loss: 0.1185, Train Acc: 0.958, Test Acc: 0.887\n",
      "Epoch 5, Loss: 0.0734, Train Acc: 0.976, Test Acc: 0.881\n"
     ]
    },
    {
     "data": {
      "image/png": "[encoded data removed]",
      "text/plain": [
       "<Figure size 1600x600 with 4 Axes>"
      ]
     },
     "metadata": {},
     "output_type": "display_data"
    }
   ],
   "source": [
    "lr, num_epochs = 0.001, 5\n",
    "### YOUR CODE HERE\n",
    "loss = nn.CrossEntropyLoss()\n",
    "trainer = torch.optim.Adam(net.parameters(), lr=lr)\n",
    "\n",
    "# this is just in case some of us do not have cuda / not using cuda\n",
    "if torch.cuda.is_available():\n",
    "    device = torch.device('cuda')\n",
    "else:\n",
    "    device = torch.device('cpu')\n",
    "\n",
    "net = net.to(device)\n",
    "\n",
    "train_losses = []\n",
    "train_accuracies = []\n",
    "test_losses = []\n",
    "test_accuracies = []\n",
    "\n",
    "best_test_loss = float('inf')\n",
    "cnn_model_path = \"./weights/best_cnn_model.pth\"\n",
    "\n",
    "for epoch in range(num_epochs):\n",
    "    net.train()\n",
    "    epoch_loss = 0\n",
    "    correct = 0\n",
    "    total = 0\n",
    "    for X, y in train_iter:\n",
    "        X = X.to(device)\n",
    "        y = y.to(device)\n",
    "        trainer.zero_grad()\n",
    "        y_hat = net(X)\n",
    "        l = loss(y_hat, y)\n",
    "        l.backward()\n",
    "        trainer.step()\n",
    "\n",
    "        epoch_loss += l.item() * y.size(0)\n",
    "        _, predicted = torch.max(y_hat, 1)\n",
    "        correct += (predicted == y).sum().item()\n",
    "        total += y.size(0)\n",
    "\n",
    "    avg_loss = epoch_loss / total\n",
    "    train_acc = correct / total\n",
    "    train_losses.append(avg_loss)\n",
    "    train_accuracies.append(train_acc)\n",
    "\n",
    "    net.eval()\n",
    "    correct = 0\n",
    "    total = 0\n",
    "    test_loss = 0\n",
    "    with torch.no_grad():\n",
    "        for X, y in test_iter:\n",
    "            X = X.to(device)\n",
    "            y = y.to(device)\n",
    "            y_hat = net(X)\n",
    "            l = loss(y_hat, y)\n",
    "            test_loss += l.item() * y.size(0) \n",
    "            _, predicted = torch.max(y_hat, 1)\n",
    "            correct += (predicted == y).sum().item()\n",
    "            total += y.size(0)\n",
    "\n",
    "    test_loss /= total\n",
    "    test_acc = correct / total\n",
    "    test_losses.append(test_loss)\n",
    "    test_accuracies.append(test_acc)\n",
    "\n",
    "    if test_loss < best_test_loss:\n",
    "        best_test_loss = test_loss\n",
    "        torch.save(net.state_dict(), cnn_model_path)\n",
    "\n",
    "\n",
    "    print(f'Epoch {epoch+1}, Loss: {avg_loss:.4f}, '\n",
    "          f'Train Acc: {train_acc:.3f}, Test Acc: {test_acc:.3f}')\n",
    "\n",
    "# just to visualise progress\n",
    "epochs = range(1, num_epochs + 1)\n",
    "plt.figure(figsize=(16, 6))\n",
    "\n",
    "plt.subplot(1, 4, 1)\n",
    "plt.plot(epochs, train_losses, 'b-o')\n",
    "plt.title('Training Loss')\n",
    "plt.xlabel('Epoch')\n",
    "plt.ylabel('Loss')\n",
    "\n",
    "plt.subplot(1, 4, 2)\n",
    "plt.plot(epochs, test_losses, 'r-o')\n",
    "plt.title('Test Loss')\n",
    "plt.xlabel('Epoch')\n",
    "plt.ylabel('Loss')\n",
    "\n",
    "plt.subplot(1, 4, 3)\n",
    "plt.plot(epochs, train_accuracies, 'g-o')\n",
    "plt.title('Training Accuracy')\n",
    "plt.xlabel('Epoch')\n",
    "plt.ylabel('Accuracy')\n",
    "\n",
    "plt.subplot(1, 4, 4)\n",
    "plt.plot(epochs, test_accuracies, 'm-o')\n",
    "plt.title('Test Accuracy')\n",
    "plt.xlabel('Epoch')\n",
    "plt.ylabel('Accuracy')\n",
    "\n",
    "plt.tight_layout()\n",
    "### END OF YOUR CODE"
   ]
  },
  {
   "cell_type": "code",
   "execution_count": 32,
   "metadata": {
    "id": "suBXkY_SG722",
    "outputId": "e4db23cd-9379-4195-ef2e-d944e825f2d3"
   },
   "outputs": [
    {
     "data": {
      "text/plain": [
       "'positive'"
      ]
     },
     "execution_count": 32,
     "metadata": {},
     "output_type": "execute_result"
    }
   ],
   "source": [
    "predict_sentiment(net, vocab, 'this movie is so great')"
   ]
  },
  {
   "cell_type": "code",
   "execution_count": 33,
   "metadata": {
    "id": "msgRgo1VG722",
    "outputId": "a058eba1-6acb-41d8-c12b-cb1ef602efe0"
   },
   "outputs": [
    {
     "data": {
      "text/plain": [
       "'negative'"
      ]
     },
     "execution_count": 33,
     "metadata": {},
     "output_type": "execute_result"
    }
   ],
   "source": [
    "predict_sentiment(net, vocab, 'this movie is so bad')"
   ]
  },
  {
   "cell_type": "code",
   "execution_count": 34,
   "metadata": {
    "id": "xiJc6ADgG722",
    "outputId": "909a4be3-dda1-41b2-f72f-78ebb33524ce"
   },
   "outputs": [
    {
     "data": {
      "text/plain": [
       "(0.8767009968151549, 0.9075961291427592, 0.84784, 0.88076)"
      ]
     },
     "execution_count": 34,
     "metadata": {},
     "output_type": "execute_result"
    }
   ],
   "source": [
    "cal_metrics(net, test_iter)"
   ]
  },
  {
   "cell_type": "markdown",
   "metadata": {
    "id": "QqlNdTgAG722"
   },
   "source": [
    "# Design Challenge (30 points)\n",
    "Now it's time to come up with your own model! You are free to decide what model you want to choose or what architecture you think is better for this task. You are also free to set all the hyperparameter for training (do consider the overfitting issue and the computing cost). From here we will see how important choosing/designing a better model architecture could be when building an NLP application in practice (however, there is no requirement for you to include such comparisons in your report).\n",
    "\n",
    "You are allowed to use external packages for this challenge, but we require that you fully understand the methods/techniques that you used, and you need to clearly explain such details in the submitted report. We will evaluate your system's performance on the held-out test set, which will only be released 48 hours before the deadline. Use your new system to generate the outputs. The system that achieves the highest F1 score will be announced as the winner for the challenge. We may perform further analysis/evaluations in case there is no clear winner based on the released test set.\n",
    "\n",
    "Let's summarize this challenge:"
   ]
  },
  {
   "cell_type": "markdown",
   "metadata": {
    "id": "y5ikmV5HG723"
   },
   "source": [
    "(i) **[Model]** You are required to develop your own model for sentiment analysis, with no restrictions on the model architecture. You may choose to follow RNN/CNN structures or experiment with Transformer-based models. In your submitted report, you must provide a detailed explanation of your model along with the accompanying code. Additionally, you are required to submit your model so that we can reproduce your results.\n",
    "\n",
    "*_(10 points)_*\n",
    "\n",
    "(ii) **[Evaluation]** For a fair comparison, you must train your new model on the same dataset provided to you. After training, evaluate your model on the test set. You are required to report the **precision**, **recall**, **F1 scores**, and **accuracy** of your new model. Save the predicted outcome for the test set and include it in the submission.\n",
    "\n",
    "_Hint:_ You will be competing with other groups on the same test set. Groups with higher performance will receive more points. For instance, if your group ranks 1st among all groups, you will receive 15 points for this section.\n",
    "\n",
    "*_(15 points)_*\n",
    "\n",
    "(iii) **[Report]** You are required to submit a report for your model. The report must include, at a minimum, the following sections: Model Description, Training Settings (e.g., dataset, hyperparameters), Performance, Code to run the model, and a breakdown of how the work was divided among team members. You are encouraged to include any additional details you deem important. Instructions on how to run the code can either be included in a separate README file or integrated into the report, as long as they are clearly presented.\n",
    "\n",
    "Please provide a thorough explanation of the model or method you used for designing the new system, along with clear documentation on how to execute the code. We will review your code, and may request an interview if we have any questions about it.\n",
    "\n",
    "_Note:_ Reports, code, and README files that are of low quality or poorly written will be penalized, so please ensure they are well-organized and clearly formatted. If we are unable to reproduce your model or run your code, you will not receive any points for this challenge.\n",
    "\n",
    "*_(5 points)_*"
   ]
  },
  {
   "cell_type": "markdown",
   "metadata": {
    "id": "eB4PML6uG723"
   },
   "source": [
    "# Start your model in a different .py file with a README explaination."
   ]
  },
  {
   "cell_type": "code",
   "execution_count": 35,
   "metadata": {},
   "outputs": [],
   "source": [
    "from load_combined_model import load_combined_model\n",
    "import torch\n",
    "from sklearn.metrics import accuracy_score, precision_score, recall_score, f1_score, classification_report\n",
    "import pandas as pd\n"
   ]
  },
  {
   "cell_type": "code",
   "execution_count": null,
   "metadata": {},
   "outputs": [
    {
     "name": "stdout",
     "output_type": "stream",
     "text": [
      "Combined model successfully loaded!\n"
     ]
    }
   ],
   "source": [
    "combined_model_path = \"./weights/best_combined_model.pth\"\n",
    "vocab_size = len(vocab)  \n",
    "combined_dim = 764      \n",
    "hidden_dim = 128\n",
    "output_dim = 2\n",
    "dropout_rate = 0.5\n",
    "device = torch.device(\"cuda\" if torch.cuda.is_available() else \"cpu\")\n",
    "\n",
    "combined_model = load_combined_model(\n",
    "    combined_model_path, vocab_size, combined_dim, hidden_dim, output_dim, dropout_rate, device\n",
    ")\n",
    "print(\"Combined model successfully loaded!\")\n"
   ]
  },
  {
   "cell_type": "markdown",
   "metadata": {},
   "source": [
    "## Eval"
   ]
  },
  {
   "cell_type": "code",
   "execution_count": 38,
   "metadata": {},
   "outputs": [],
   "source": [
    "test_file_path = \"./test_data_movie.csv\""
   ]
  },
  {
   "cell_type": "code",
   "execution_count": 41,
   "metadata": {},
   "outputs": [],
   "source": [
    "def evaluate_and_save_predictions(model, test_file_path, vocab, device, output_csv='predictions.csv'):\n",
    "    \"\"\"\n",
    "    Evaluate the combined model on the provided test set and save predictions to a CSV file.\n",
    "\n",
    "    Args:\n",
    "        model: Combined PyTorch model to evaluate.\n",
    "        test_file_path: Path to the test dataset CSV file (text, label).\n",
    "        vocab: Vocabulary object to tokenize the text data.\n",
    "        device: Device (CPU or GPU) to run the evaluation.\n",
    "        output_csv: Filename for the output CSV file.\n",
    "\n",
    "    Returns:\n",
    "        metrics: Dictionary containing accuracy, precision, recall, and F1 score.\n",
    "    \"\"\"\n",
    "\n",
    "    test_data = pd.read_csv(test_file_path)\n",
    "    texts = test_data['text'].tolist()\n",
    "    labels = test_data['label'].tolist()\n",
    "\n",
    "    tokenized_texts = [vocab[token] for token in d2l.tokenize(texts, token='word')]\n",
    "    max_len = 500  \n",
    "    features = torch.tensor([d2l.truncate_pad(tokens, max_len, vocab['<pad>']) for tokens in tokenized_texts])\n",
    "    labels_tensor = torch.tensor(labels)\n",
    "\n",
    "    test_dataset = torch.utils.data.TensorDataset(features, labels_tensor)\n",
    "    test_loader = torch.utils.data.DataLoader(test_dataset, batch_size=64)\n",
    "\n",
    "    y_true, y_pred = [], []\n",
    "    all_texts = []\n",
    "\n",
    "    with torch.no_grad():\n",
    "        for batch_idx, (X_batch, y_batch) in enumerate(test_loader):\n",
    "            X_batch = X_batch.to(device)\n",
    "            y_batch = y_batch.to(device)\n",
    "            outputs = model(X_batch)\n",
    "            predictions = torch.argmax(outputs, axis=1).cpu().numpy()\n",
    "            y_pred.extend(predictions)\n",
    "            y_true.extend(y_batch.cpu().numpy())\n",
    "\n",
    "            start_idx = batch_idx * test_loader.batch_size\n",
    "            end_idx = start_idx + X_batch.size(0)\n",
    "            batch_texts = texts[start_idx:end_idx]\n",
    "            all_texts.extend(batch_texts)\n",
    "\n",
    "    accuracy = accuracy_score(y_true, y_pred)\n",
    "    precision = precision_score(y_true, y_pred, average=\"binary\")\n",
    "    recall = recall_score(y_true, y_pred, average=\"binary\")\n",
    "    f1 = f1_score(y_true, y_pred, average=\"binary\")\n",
    "\n",
    "    print(\"\\nClassification Report:\")\n",
    "    print(classification_report(y_true, y_pred, target_names=[\"Negative\", \"Positive\"]))\n",
    "\n",
    "    label_map = {0: 'negative', 1: 'positive'}\n",
    "    predicted_labels = [label_map[label] for label in y_pred]\n",
    "    true_labels = [label_map[label] for label in y_true]\n",
    "\n",
    "    results_df = pd.DataFrame({\n",
    "        'text': all_texts,\n",
    "        'predicted': predicted_labels,\n",
    "        'truth': true_labels\n",
    "    })\n",
    "    results_df.to_csv(output_csv, index=False)\n",
    "    print(f\"\\nPredictions saved to {output_csv}\")\n",
    "\n",
    "    return {\"accuracy\": accuracy, \"precision\": precision, \"recall\": recall, \"f1_score\": f1}\n"
   ]
  },
  {
   "cell_type": "code",
   "execution_count": 42,
   "metadata": {},
   "outputs": [
    {
     "name": "stdout",
     "output_type": "stream",
     "text": [
      "\n",
      "Classification Report:\n",
      "              precision    recall  f1-score   support\n",
      "\n",
      "    Negative       0.95      0.93      0.94     20019\n",
      "    Positive       0.93      0.95      0.94     19981\n",
      "\n",
      "    accuracy                           0.94     40000\n",
      "   macro avg       0.94      0.94      0.94     40000\n",
      "weighted avg       0.94      0.94      0.94     40000\n",
      "\n",
      "\n",
      "Predictions saved to predictions.csv\n",
      "\n",
      "Combined Model Evaluation Metrics:\n",
      "Accuracy: 0.9405\n",
      "Precision: 0.9300\n",
      "Recall: 0.9526\n",
      "F1 Score: 0.9411\n"
     ]
    }
   ],
   "source": [
    "metrics = evaluate_and_save_predictions(combined_model, test_file_path, vocab, device, output_csv='predictions.csv')\n",
    "\n",
    "print(\"\\nCombined Model Evaluation Metrics:\")\n",
    "print(f\"Accuracy: {metrics['accuracy']:.4f}\")\n",
    "print(f\"Precision: {metrics['precision']:.4f}\")\n",
    "print(f\"Recall: {metrics['recall']:.4f}\")\n",
    "print(f\"F1 Score: {metrics['f1_score']:.4f}\")"
   ]
  },
  {
   "cell_type": "markdown",
   "metadata": {},
   "source": []
  }
 ],
 "metadata": {
  "accelerator": "GPU",
  "colab": {
   "gpuType": "T4",
   "provenance": []
  },
  "kernelspec": {
   "display_name": "general_ai",
   "language": "python",
   "name": "python3"
  },
  "language_info": {
   "codemirror_mode": {
    "name": "ipython",
    "version": 3
   },
   "file_extension": ".py",
   "mimetype": "text/x-python",
   "name": "python",
   "nbconvert_exporter": "python",
   "pygments_lexer": "ipython3",
   "version": "3.9.19"
  }
 },
 "nbformat": 4,
 "nbformat_minor": 0
}
